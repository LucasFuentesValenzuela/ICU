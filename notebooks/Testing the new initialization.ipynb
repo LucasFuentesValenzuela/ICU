{
 "cells": [
  {
   "cell_type": "markdown",
   "metadata": {
    "toc": true
   },
   "source": [
    "<h1>Table of Contents<span class=\"tocSkip\"></span></h1>\n",
    "<div class=\"toc\"><ul class=\"toc-item\"><li><span><a href=\"#Conclusion\" data-toc-modified-id=\"Conclusion-1\"><span class=\"toc-item-num\">1&nbsp;&nbsp;</span>Conclusion</a></span></li><li><span><a href=\"#Goal\" data-toc-modified-id=\"Goal-2\"><span class=\"toc-item-num\">2&nbsp;&nbsp;</span>Goal</a></span></li><li><span><a href=\"#Load\" data-toc-modified-id=\"Load-3\"><span class=\"toc-item-num\">3&nbsp;&nbsp;</span>Load</a></span></li><li><span><a href=\"#Testing-each-subroutine\" data-toc-modified-id=\"Testing-each-subroutine-4\"><span class=\"toc-item-num\">4&nbsp;&nbsp;</span>Testing each subroutine</a></span><ul class=\"toc-item\"><li><span><a href=\"#get-rebalancers\" data-toc-modified-id=\"get-rebalancers-4.1\"><span class=\"toc-item-num\">4.1&nbsp;&nbsp;</span>get rebalancers</a></span></li><li><span><a href=\"#get-rebalancing-flows\" data-toc-modified-id=\"get-rebalancing-flows-4.2\"><span class=\"toc-item-num\">4.2&nbsp;&nbsp;</span>get rebalancing flows</a></span></li><li><span><a href=\"#compute\" data-toc-modified-id=\"compute-4.3\"><span class=\"toc-item-num\">4.3&nbsp;&nbsp;</span>compute</a></span></li></ul></li></ul></div>"
   ]
  },
  {
   "cell_type": "markdown",
   "metadata": {},
   "source": [
    "# Conclusion"
   ]
  },
  {
   "cell_type": "markdown",
   "metadata": {},
   "source": [
    "# Goal"
   ]
  },
  {
   "cell_type": "markdown",
   "metadata": {},
   "source": [
    "Testing the initialization routines before introducing it for real into the code. "
   ]
  },
  {
   "cell_type": "markdown",
   "metadata": {},
   "source": [
    "# Load"
   ]
  },
  {
   "cell_type": "code",
   "execution_count": 5,
   "metadata": {},
   "outputs": [],
   "source": [
    "%load_ext autoreload\n",
    "%autoreload 2\n",
    "import networkx as nx\n",
    "import matplotlib.pyplot as plt\n",
    "import numpy as np\n",
    "import pickle\n",
    "import os\n",
    "import pandas as pd\n",
    "\n",
    "from amod_ed.result_analysis import plot_ri, print_final_flows, plot_cost_all_path, plot_ri_list, plot_balance_list\n",
    "from amod_ed.result_analysis import plot_stop_and_cost"
   ]
  },
  {
   "cell_type": "code",
   "execution_count": 6,
   "metadata": {},
   "outputs": [],
   "source": [
    "subfolder='unstucking_balance'"
   ]
  },
  {
   "cell_type": "code",
   "execution_count": 7,
   "metadata": {},
   "outputs": [],
   "source": [
    "n_nodes=10"
   ]
  },
  {
   "cell_type": "code",
   "execution_count": 8,
   "metadata": {},
   "outputs": [],
   "source": [
    "path='Data/'+str(n_nodes)+'Nodes/outputs/'+subfolder"
   ]
  },
  {
   "cell_type": "code",
   "execution_count": 9,
   "metadata": {},
   "outputs": [
    {
     "name": "stdout",
     "output_type": "stream",
     "text": [
      "['new_init.pkl', 'ni_to_10000.pkl', 'initial_setup.pkl', 'ni_to_5000.pkl']\n"
     ]
    }
   ],
   "source": [
    "print(os.listdir(path))"
   ]
  },
  {
   "cell_type": "code",
   "execution_count": 10,
   "metadata": {},
   "outputs": [
    {
     "name": "stdout",
     "output_type": "stream",
     "text": [
      "initial_setup.pkl\n"
     ]
    }
   ],
   "source": [
    "filename=os.listdir(path)[2]\n",
    "print(filename)\n",
    "\n",
    "with open(os.path.join(path, filename), 'rb') as f:\n",
    "        G_FW, OD, ri_FW, n_outer, n_inner, balance, opt_res, OD_list, balance_list, params = pickle.load(f)"
   ]
  },
  {
   "cell_type": "code",
   "execution_count": 11,
   "metadata": {},
   "outputs": [
    {
     "data": {
      "text/plain": [
       "{'L': 10000,\n",
       " 'ni': 1000,\n",
       " 'no': 20,\n",
       " 'ev': False,\n",
       " 'sc': 'relative_progress',\n",
       " 'fu': False,\n",
       " 'ri_smoothing': False,\n",
       " 'update_factor': False,\n",
       " 'FW_tol': 0,\n",
       " 'tol': 0}"
      ]
     },
     "execution_count": 11,
     "metadata": {},
     "output_type": "execute_result"
    }
   ],
   "source": [
    "params"
   ]
  },
  {
   "cell_type": "markdown",
   "metadata": {},
   "source": [
    "# Testing each subroutine"
   ]
  },
  {
   "cell_type": "markdown",
   "metadata": {},
   "source": [
    "## get rebalancers"
   ]
  },
  {
   "cell_type": "markdown",
   "metadata": {},
   "source": [
    "ok"
   ]
  },
  {
   "cell_type": "markdown",
   "metadata": {},
   "source": [
    "## get rebalancing flows"
   ]
  },
  {
   "cell_type": "code",
   "execution_count": 36,
   "metadata": {},
   "outputs": [],
   "source": [
    "from amod_ed.result_analysis import print_final_flows"
   ]
  },
  {
   "cell_type": "code",
   "execution_count": 52,
   "metadata": {},
   "outputs": [],
   "source": [
    "G_ref = G_FW[3][-1]"
   ]
  },
  {
   "cell_type": "code",
   "execution_count": 53,
   "metadata": {},
   "outputs": [
    {
     "name": "stdout",
     "output_type": "stream",
     "text": [
      "('0', '1')  :  12.644357887559229\n",
      "('0', '2')  :  7.279746201901883\n",
      "('0', '3')  :  10.38865326290476\n",
      "('0', '7')  :  6.623875126869138\n",
      "('0', 'R')  :  13.911204437606552\n",
      "('0', '0_p')  :  6.096378671228969\n",
      "('1', '0')  :  12.584284102390578\n",
      "('1', '4')  :  12.644357887559229\n",
      "('2', '0')  :  7.262198878965337\n",
      "('2', '6')  :  7.279746201901883\n",
      "('3', '0')  :  10.446379967338036\n",
      "('3', '9')  :  4.867168759384326\n",
      "('3', '5_p')  :  5.521484503520423\n",
      "('4', '1')  :  12.584284102390578\n",
      "('4', '5')  :  16.68901370752173\n",
      "('4', '8')  :  0.0\n",
      "('4', '5_p')  :  6.2167174143222\n",
      "('5', '4')  :  16.60537067722697\n",
      "('5', 'R')  :  16.68901370752173\n",
      "('5', '5_p')  :  13.394629322773039\n",
      "('6', '2')  :  7.262198878965337\n",
      "('6', '0_p')  :  7.279746201901883\n",
      "('7', '0')  :  6.651352639376588\n",
      "('7', '0_p')  :  6.623875126869138\n",
      "('8', '4')  :  0.0\n",
      "('9', '3')  :  4.888704110260986\n",
      "('9', '5_p')  :  4.867168759384326\n"
     ]
    }
   ],
   "source": [
    "print_final_flows(G_FW[3])"
   ]
  },
  {
   "cell_type": "code",
   "execution_count": 42,
   "metadata": {},
   "outputs": [],
   "source": [
    "from amod_ed.initialization_rebalancers import _get_rebalancing_flows"
   ]
  },
  {
   "cell_type": "code",
   "execution_count": 55,
   "metadata": {},
   "outputs": [],
   "source": [
    "f_r, edge_list = _get_rebalancing_flows(G_ref)"
   ]
  },
  {
   "cell_type": "code",
   "execution_count": 56,
   "metadata": {},
   "outputs": [
    {
     "data": {
      "text/plain": [
       "array([12.64435789,  0.        ,  0.        ,  0.        , 13.91120444,\n",
       "        0.        ,  2.19563084, 12.64435789,  7.26219888,  0.        ,\n",
       "       10.44637997,  0.        ,  0.        ,  2.19563084, 16.68901371,\n",
       "        0.        ,  0.        ,  0.        , 16.68901371,  0.        ,\n",
       "        7.26219888,  0.        ,  6.65135264,  0.        ,  0.        ,\n",
       "        4.88870411,  0.        ])"
      ]
     },
     "execution_count": 56,
     "metadata": {},
     "output_type": "execute_result"
    }
   ],
   "source": [
    "f_r"
   ]
  },
  {
   "cell_type": "code",
   "execution_count": 57,
   "metadata": {},
   "outputs": [
    {
     "data": {
      "text/plain": [
       "['0', '0_p', '1', '2', '3', '4', '5', '5_p', '6', '7', '8', '9', 'R']"
      ]
     },
     "execution_count": 57,
     "metadata": {},
     "output_type": "execute_result"
    }
   ],
   "source": [
    "nodes_list"
   ]
  },
  {
   "cell_type": "code",
   "execution_count": 58,
   "metadata": {},
   "outputs": [
    {
     "data": {
      "text/plain": [
       "[('0', '1'),\n",
       " ('0', '2'),\n",
       " ('0', '3'),\n",
       " ('0', '7'),\n",
       " ('0', 'R'),\n",
       " ('0', '0_p'),\n",
       " ('1', '0'),\n",
       " ('1', '4'),\n",
       " ('2', '0'),\n",
       " ('2', '6'),\n",
       " ('3', '0'),\n",
       " ('3', '9'),\n",
       " ('3', '5_p'),\n",
       " ('4', '1'),\n",
       " ('4', '5'),\n",
       " ('4', '8'),\n",
       " ('4', '5_p'),\n",
       " ('5', '4'),\n",
       " ('5', 'R'),\n",
       " ('5', '5_p'),\n",
       " ('6', '2'),\n",
       " ('6', '0_p'),\n",
       " ('7', '0'),\n",
       " ('7', '0_p'),\n",
       " ('8', '4'),\n",
       " ('9', '3'),\n",
       " ('9', '5_p')]"
      ]
     },
     "execution_count": 58,
     "metadata": {},
     "output_type": "execute_result"
    }
   ],
   "source": [
    "edge_list"
   ]
  },
  {
   "cell_type": "code",
   "execution_count": 59,
   "metadata": {},
   "outputs": [],
   "source": [
    "from amod_ed.initialization_rebalancers import _get_matrix"
   ]
  },
  {
   "cell_type": "code",
   "execution_count": 61,
   "metadata": {},
   "outputs": [],
   "source": [
    "A = _get_matrix(G_ref, edge_list, nodes_list)"
   ]
  },
  {
   "cell_type": "markdown",
   "metadata": {},
   "source": [
    "ok"
   ]
  },
  {
   "cell_type": "markdown",
   "metadata": {},
   "source": [
    "## compute"
   ]
  },
  {
   "cell_type": "code",
   "execution_count": 66,
   "metadata": {},
   "outputs": [],
   "source": [
    "from amod_ed.initialization_rebalancers import _compute_nearest_feasible"
   ]
  },
  {
   "cell_type": "code",
   "execution_count": 72,
   "metadata": {},
   "outputs": [
    {
     "name": "stdout",
     "output_type": "stream",
     "text": [
      "Initialization problem status:  optimal\n"
     ]
    }
   ],
   "source": [
    "f_init_r = _compute_nearest_feasible(f_r, r_i, A, norm = 1)"
   ]
  },
  {
   "cell_type": "code",
   "execution_count": 73,
   "metadata": {},
   "outputs": [
    {
     "data": {
      "text/plain": [
       "array([ 1.26433482e+01,  5.56767336e+00,  6.84037299e+00,  7.64904653e+00,\n",
       "       -1.25043215e+01,  5.56766815e+00,  2.19664053e+00,  1.26433478e+01,\n",
       "        3.87315613e+00,  5.56767398e+00,  4.78275300e+00,  6.89839279e-01,\n",
       "       -5.18304846e-04,  2.19664092e+00,  9.88981346e+00,  1.40760857e-06,\n",
       "        1.42718164e-03,  5.68482606e+00,  1.25043216e+01,  8.38733096e+00,\n",
       "        3.87315552e+00, -5.56767919e+00,  9.97685298e-01,  9.80424356e-06,\n",
       "       -1.40760857e-06,  4.18937577e+00, -8.38823987e+00])"
      ]
     },
     "execution_count": 73,
     "metadata": {},
     "output_type": "execute_result"
    }
   ],
   "source": [
    "f_init_r"
   ]
  },
  {
   "cell_type": "code",
   "execution_count": 74,
   "metadata": {},
   "outputs": [
    {
     "data": {
      "text/plain": [
       "array([12.64435789,  0.        ,  0.        ,  0.        , 13.91120444,\n",
       "        0.        ,  2.19563084, 12.64435789,  7.26219888,  0.        ,\n",
       "       10.44637997,  0.        ,  0.        ,  2.19563084, 16.68901371,\n",
       "        0.        ,  0.        ,  0.        , 16.68901371,  0.        ,\n",
       "        7.26219888,  0.        ,  6.65135264,  0.        ,  0.        ,\n",
       "        4.88870411,  0.        ])"
      ]
     },
     "execution_count": 74,
     "metadata": {},
     "output_type": "execute_result"
    }
   ],
   "source": [
    "f_r"
   ]
  }
 ],
 "metadata": {
  "kernelspec": {
   "display_name": "Python 3.6.8 64-bit ('base': conda)",
   "language": "python",
   "name": "python36864bitbaseconda750b8e9e7bda4c4c8e0af5d270c01c3d"
  },
  "language_info": {
   "codemirror_mode": {
    "name": "ipython",
    "version": 3
   },
   "file_extension": ".py",
   "mimetype": "text/x-python",
   "name": "python",
   "nbconvert_exporter": "python",
   "pygments_lexer": "ipython3",
   "version": "3.6.8"
  },
  "toc": {
   "base_numbering": 1,
   "nav_menu": {},
   "number_sections": true,
   "sideBar": true,
   "skip_h1_title": false,
   "title_cell": "Table of Contents",
   "title_sidebar": "Contents",
   "toc_cell": true,
   "toc_position": {},
   "toc_section_display": true,
   "toc_window_display": true
  },
  "varInspector": {
   "cols": {
    "lenName": 16,
    "lenType": 16,
    "lenVar": 40
   },
   "kernels_config": {
    "python": {
     "delete_cmd_postfix": "",
     "delete_cmd_prefix": "del ",
     "library": "var_list.py",
     "varRefreshCmd": "print(var_dic_list())"
    },
    "r": {
     "delete_cmd_postfix": ") ",
     "delete_cmd_prefix": "rm(",
     "library": "var_list.r",
     "varRefreshCmd": "cat(var_dic_list()) "
    }
   },
   "types_to_exclude": [
    "module",
    "function",
    "builtin_function_or_method",
    "instance",
    "_Feature"
   ],
   "window_display": false
  }
 },
 "nbformat": 4,
 "nbformat_minor": 2
}
