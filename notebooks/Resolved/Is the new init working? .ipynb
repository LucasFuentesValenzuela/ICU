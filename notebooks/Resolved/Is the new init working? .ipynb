{
 "cells": [
  {
   "cell_type": "markdown",
   "metadata": {
    "toc": true
   },
   "source": [
    "<h1>Table of Contents<span class=\"tocSkip\"></span></h1>\n",
    "<div class=\"toc\"><ul class=\"toc-item\"><li><span><a href=\"#Goal\" data-toc-modified-id=\"Goal-1\"><span class=\"toc-item-num\">1&nbsp;&nbsp;</span>Goal</a></span></li><li><span><a href=\"#Conclusions\" data-toc-modified-id=\"Conclusions-2\"><span class=\"toc-item-num\">2&nbsp;&nbsp;</span>Conclusions</a></span></li><li><span><a href=\"#Load\" data-toc-modified-id=\"Load-3\"><span class=\"toc-item-num\">3&nbsp;&nbsp;</span>Load</a></span></li><li><span><a href=\"#2-Nodes\" data-toc-modified-id=\"2-Nodes-4\"><span class=\"toc-item-num\">4&nbsp;&nbsp;</span>2 Nodes</a></span><ul class=\"toc-item\"><li><span><a href=\"#Is-the-init-correct?\" data-toc-modified-id=\"Is-the-init-correct?-4.1\"><span class=\"toc-item-num\">4.1&nbsp;&nbsp;</span>Is the init correct?</a></span></li></ul></li></ul></div>"
   ]
  },
  {
   "cell_type": "markdown",
   "metadata": {},
   "source": [
    "# Goal"
   ]
  },
  {
   "cell_type": "markdown",
   "metadata": {},
   "source": [
    "We wanted to resolve the initialization, that happened to be a bit weird. Indeed the rebalancing edges were not properly initialized and the costs were not going steadily down. "
   ]
  },
  {
   "cell_type": "markdown",
   "metadata": {},
   "source": [
    "# Conclusions"
   ]
  },
  {
   "cell_type": "markdown",
   "metadata": {},
   "source": [
    "The approach was good, but we forgot to enforce that the \"available\" rebalancing edges be balanced at the beginning. "
   ]
  },
  {
   "cell_type": "markdown",
   "metadata": {},
   "source": [
    "# Load"
   ]
  },
  {
   "cell_type": "code",
   "execution_count": 39,
   "metadata": {},
   "outputs": [
    {
     "name": "stdout",
     "output_type": "stream",
     "text": [
      "The autoreload extension is already loaded. To reload it, use:\n",
      "  %reload_ext autoreload\n"
     ]
    }
   ],
   "source": [
    "%load_ext autoreload\n",
    "%autoreload 2\n",
    "import networkx as nx\n",
    "import matplotlib.pyplot as plt\n",
    "import numpy as np\n",
    "import pickle\n",
    "import os\n",
    "import pandas as pd\n",
    "\n",
    "from amod_ed.result_analysis import plot_ri, print_final_flows, plot_cost_all_path, plot_ri_list, plot_balance_list\n",
    "from amod_ed.result_analysis import plot_stop_and_cost"
   ]
  },
  {
   "cell_type": "code",
   "execution_count": 40,
   "metadata": {},
   "outputs": [],
   "source": [
    "subfolder='unstucking_balance'"
   ]
  },
  {
   "cell_type": "markdown",
   "metadata": {},
   "source": [
    "# 2 Nodes"
   ]
  },
  {
   "cell_type": "code",
   "execution_count": 49,
   "metadata": {},
   "outputs": [],
   "source": [
    "n_nodes=2"
   ]
  },
  {
   "cell_type": "code",
   "execution_count": 50,
   "metadata": {},
   "outputs": [],
   "source": [
    "path='Data/'+str(n_nodes)+'Nodes_back2basics/outputs/'+subfolder"
   ]
  },
  {
   "cell_type": "code",
   "execution_count": 51,
   "metadata": {},
   "outputs": [
    {
     "name": "stdout",
     "output_type": "stream",
     "text": [
      "['new_init.pkl', 'initial_setup.pkl']\n"
     ]
    }
   ],
   "source": [
    "print(os.listdir(path))"
   ]
  },
  {
   "cell_type": "code",
   "execution_count": 52,
   "metadata": {},
   "outputs": [
    {
     "name": "stdout",
     "output_type": "stream",
     "text": [
      "initial_setup.pkl\n"
     ]
    }
   ],
   "source": [
    "filename=os.listdir(path)[1]\n",
    "print(filename)\n",
    "\n",
    "with open(os.path.join(path, filename), 'rb') as f:\n",
    "        G_FW1, OD, ri_FW1, n_outer, n_inner, balance, opt_res, OD_list, balance_list, params = pickle.load(f)"
   ]
  },
  {
   "cell_type": "code",
   "execution_count": 53,
   "metadata": {},
   "outputs": [
    {
     "name": "stdout",
     "output_type": "stream",
     "text": [
      "new_init.pkl\n"
     ]
    }
   ],
   "source": [
    "filename=os.listdir(path)[0]\n",
    "print(filename)\n",
    "\n",
    "with open(os.path.join(path, filename), 'rb') as f:\n",
    "        G_FW2, OD, ri_FW2, n_outer, n_inner, balance, opt_res, OD_list, balance_list, params = pickle.load(f)"
   ]
  },
  {
   "cell_type": "markdown",
   "metadata": {},
   "source": [
    "## Is the init correct?"
   ]
  },
  {
   "cell_type": "markdown",
   "metadata": {},
   "source": [
    "Now it is!!"
   ]
  },
  {
   "cell_type": "markdown",
   "metadata": {},
   "source": [
    "Currently we are solving the following problem: \n",
    "$$\n",
    "\\min_{f} \\|f-f_r\\| \\\\\n",
    "\\text{s.t.    } A_{in} f - A_{out} f = r\\\\\n",
    "\\text{AND   } f_R = (\\sum_{in} - \\sum_{out}) f_o\n",
    "$$"
   ]
  },
  {
   "cell_type": "markdown",
   "metadata": {},
   "source": [
    "I had forgotten to include \n",
    "$$ f \\geq 0 $$\n",
    "as a constraint. "
   ]
  },
  {
   "cell_type": "markdown",
   "metadata": {},
   "source": [
    "The last equation simply means that the flow on the rebalancing edge must be equal to the net rebalancing flow at the origin node of that edge. "
   ]
  },
  {
   "cell_type": "markdown",
   "metadata": {},
   "source": [
    "**Reminder**: how are the ri computed? \n",
    "- Initialization of all ri to 0\n",
    "- We loop through the nodes\n",
    "    - for the origin of the edge, we add the flow\n",
    "    - for the destination of the edge, we substract the flow\n",
    "\n",
    "Therefore, \n",
    "- A node with ri>0 is a node that is in deficit of rebalancers\n",
    "- A node with ri<0 is a node that is in excess of rebalancers\n",
    "\n",
    "\n",
    "**Reminder**: how do we update OD? \n",
    "- We add a pair $(n,R)$ for each node $n$ that is in excess. "
   ]
  }
 ],
 "metadata": {
  "kernelspec": {
   "display_name": "Python 3.6.8 64-bit ('base': conda)",
   "language": "python",
   "name": "python36864bitbaseconda750b8e9e7bda4c4c8e0af5d270c01c3d"
  },
  "language_info": {
   "codemirror_mode": {
    "name": "ipython",
    "version": 3
   },
   "file_extension": ".py",
   "mimetype": "text/x-python",
   "name": "python",
   "nbconvert_exporter": "python",
   "pygments_lexer": "ipython3",
   "version": "3.6.8"
  },
  "toc": {
   "base_numbering": 1,
   "nav_menu": {},
   "number_sections": true,
   "sideBar": true,
   "skip_h1_title": false,
   "title_cell": "Table of Contents",
   "title_sidebar": "Contents",
   "toc_cell": true,
   "toc_position": {
    "height": "calc(100% - 180px)",
    "left": "10px",
    "top": "150px",
    "width": "165px"
   },
   "toc_section_display": true,
   "toc_window_display": true
  },
  "varInspector": {
   "cols": {
    "lenName": 16,
    "lenType": 16,
    "lenVar": 40
   },
   "kernels_config": {
    "python": {
     "delete_cmd_postfix": "",
     "delete_cmd_prefix": "del ",
     "library": "var_list.py",
     "varRefreshCmd": "print(var_dic_list())"
    },
    "r": {
     "delete_cmd_postfix": ") ",
     "delete_cmd_prefix": "rm(",
     "library": "var_list.r",
     "varRefreshCmd": "cat(var_dic_list()) "
    }
   },
   "types_to_exclude": [
    "module",
    "function",
    "builtin_function_or_method",
    "instance",
    "_Feature"
   ],
   "window_display": false
  }
 },
 "nbformat": 4,
 "nbformat_minor": 2
}
