{
 "cells": [
  {
   "cell_type": "markdown",
   "metadata": {
    "toc": true
   },
   "source": [
    "<h1>Table of Contents<span class=\"tocSkip\"></span></h1>\n",
    "<div class=\"toc\"><ul class=\"toc-item\"><li><span><a href=\"#Load\" data-toc-modified-id=\"Load-1\"><span class=\"toc-item-num\">1&nbsp;&nbsp;</span>Load</a></span><ul class=\"toc-item\"><li><span><a href=\"#Previous-experiment\" data-toc-modified-id=\"Previous-experiment-1.1\"><span class=\"toc-item-num\">1.1&nbsp;&nbsp;</span>Previous experiment</a></span></li></ul></li></ul></div>"
   ]
  },
  {
   "cell_type": "markdown",
   "metadata": {},
   "source": [
    "This notebook is to enable line search. We will use this notebook exclusively to debug the implementation of line search on a single instance of the graph. "
   ]
  },
  {
   "cell_type": "markdown",
   "metadata": {},
   "source": [
    "# Load"
   ]
  },
  {
   "cell_type": "code",
   "execution_count": 8,
   "metadata": {},
   "outputs": [],
   "source": [
    "%load_ext autoreload\n",
    "%autoreload 2\n",
    "import networkx as nx\n",
    "import matplotlib.pyplot as plt\n",
    "import numpy as np\n",
    "import pickle\n",
    "import os\n",
    "import pandas as pd\n",
    "\n",
    "from amod_ed.result_analysis import plot_ri, print_final_flows, plot_cost_all_path, plot_ri_list, plot_balance_list\n",
    "from amod_ed.result_analysis import plot_stop_and_cost\n",
    "\n",
    "from amod_ed.FW_OuterUpdate import FW_graph_extension"
   ]
  },
  {
   "cell_type": "markdown",
   "metadata": {},
   "source": [
    "## Previous experiment"
   ]
  },
  {
   "cell_type": "markdown",
   "metadata": {},
   "source": [
    "We load a previous experiment just to have the graphs etc. "
   ]
  },
  {
   "cell_type": "code",
   "execution_count": 9,
   "metadata": {},
   "outputs": [],
   "source": [
    "subfolder = 'unstucking_balance'"
   ]
  },
  {
   "cell_type": "code",
   "execution_count": 10,
   "metadata": {},
   "outputs": [],
   "source": [
    "n_nodes=2"
   ]
  },
  {
   "cell_type": "code",
   "execution_count": 11,
   "metadata": {},
   "outputs": [],
   "source": [
    "path='Data/'+str(n_nodes)+'Nodes_back2basics/outputs/'+subfolder"
   ]
  },
  {
   "cell_type": "code",
   "execution_count": 12,
   "metadata": {},
   "outputs": [
    {
     "name": "stdout",
     "output_type": "stream",
     "text": [
      "['output_L_10000_ni_15_no_20_ev_0_relative_progress_fu_False.pkl', 'new_init.pkl', 'initial_setup.pkl', 'new_init_with_step.pkl', 'line_search.pkl']\n"
     ]
    }
   ],
   "source": [
    "print(os.listdir(path))"
   ]
  },
  {
   "cell_type": "code",
   "execution_count": 13,
   "metadata": {},
   "outputs": [
    {
     "name": "stdout",
     "output_type": "stream",
     "text": [
      "line_search.pkl\n"
     ]
    }
   ],
   "source": [
    "filename=os.listdir(path)[-1]\n",
    "print(filename)\n",
    "\n",
    "with open(os.path.join(path, filename), 'rb') as f:\n",
    "        G_FW1, OD, ri_FW1, n_outer, n_inner, balance1, opt_res1, OD_list, balance_list1, params = pickle.load(f)"
   ]
  },
  {
   "cell_type": "code",
   "execution_count": 14,
   "metadata": {},
   "outputs": [
    {
     "data": {
      "text/plain": [
       "{'L': 10000,\n",
       " 'ni': 15,\n",
       " 'no': 20,\n",
       " 'ev': False,\n",
       " 'sc': 'relative_progress',\n",
       " 'fu': False,\n",
       " 'ri_smoothing': False,\n",
       " 'update_factor': False,\n",
       " 'FW_tol': 0,\n",
       " 'tol': 0}"
      ]
     },
     "execution_count": 14,
     "metadata": {},
     "output_type": "execute_result"
    }
   ],
   "source": [
    "params"
   ]
  },
  {
   "cell_type": "code",
   "execution_count": 79,
   "metadata": {},
   "outputs": [],
   "source": [
    "G_ref = G_FW1[0]\n",
    "ri_ref = ri_FW1[2]"
   ]
  },
  {
   "cell_type": "code",
   "execution_count": 80,
   "metadata": {},
   "outputs": [
    {
     "data": {
      "text/plain": [
       "{'0': 6.0008644329773, '0_p': 0.0, '1': -6.0008644329773, '1_p': 0.0, 'R': 0.0}"
      ]
     },
     "execution_count": 80,
     "metadata": {},
     "output_type": "execute_result"
    }
   ],
   "source": [
    "ri_ref"
   ]
  },
  {
   "cell_type": "markdown",
   "metadata": {},
   "source": [
    "We are going to solve only the inner iterations, as they are the ones causing problems"
   ]
  },
  {
   "cell_type": "code",
   "execution_count": 73,
   "metadata": {},
   "outputs": [],
   "source": [
    "edge_list =[]\n",
    "for e in G_ref.edges():\n",
    "    edge_list.append(e)"
   ]
  },
  {
   "cell_type": "code",
   "execution_count": 100,
   "metadata": {
    "scrolled": false
   },
   "outputs": [
    {
     "name": "stdout",
     "output_type": "stream",
     "text": [
      "Initialization problem status:  optimal\n",
      "Status of line search problem :  optimal_inaccurate\n",
      "0.36327332297175324\n",
      "Status of line search problem :  optimal_inaccurate\n",
      "0.9997112926376435\n",
      "Status of line search problem :  optimal_inaccurate\n",
      "0.22133132041745116\n",
      "Status of line search problem :  optimal_inaccurate\n",
      "0.10281475369120165\n",
      "Status of line search problem :  optimal_inaccurate\n",
      "0.16110462750975071\n",
      "Status of line search problem :  optimal_inaccurate\n",
      "0.05822633943683867\n",
      "Status of line search problem :  optimal_inaccurate\n",
      "0.07526996533672907\n",
      "Status of line search problem :  optimal_inaccurate\n",
      "0.029832700475392576\n",
      "Status of line search problem :  optimal_inaccurate\n",
      "0.04793763371265955\n",
      "Status of line search problem :  optimal_inaccurate\n",
      "0.08892700163806065\n",
      "Status of line search problem :  optimal_inaccurate\n",
      "0.18421620293356905\n",
      "Status of line search problem :  optimal_inaccurate\n",
      "0.012168715652308213\n",
      "Status of line search problem :  optimal_inaccurate\n",
      "4.482135641534642e-06\n",
      "Status of line search problem :  optimal_inaccurate\n",
      "0.14398661200435295\n",
      "Status of line search problem :  optimal_inaccurate\n",
      "0.12135535796421022\n",
      "Status of line search problem :  optimal_inaccurate\n",
      "0.08424387985958291\n",
      "Status of line search problem :  optimal_inaccurate\n",
      "0.0006195275081929972\n",
      "Status of line search problem :  optimal_inaccurate\n",
      "5.8850816445315035e-05\n",
      "Status of line search problem :  optimal_inaccurate\n",
      "3.254225680726586e-05\n",
      "Status of line search problem :  optimal_inaccurate\n",
      "0.008964942439468413\n",
      "Status of line search problem :  optimal_inaccurate\n",
      "0.000688150074482313\n",
      "Status of line search problem :  optimal_inaccurate\n",
      "0.0006610137441937906\n",
      "Status of line search problem :  optimal_inaccurate\n",
      "0.0003606943592229464\n",
      "Status of line search problem :  optimal_inaccurate\n",
      "6.362168145563627e-05\n",
      "Status of line search problem :  optimal_inaccurate\n",
      "6.49283527167704e-05\n",
      "Status of line search problem :  optimal_inaccurate\n",
      "7.994904438911543e-06\n",
      "Status of line search problem :  optimal_inaccurate\n",
      "2.062728811711835e-05\n",
      "Status of line search problem :  optimal_inaccurate\n",
      "4.7830079290156134e-05\n",
      "Status of line search problem :  optimal_inaccurate\n",
      "0.010894712642269573\n",
      "Status of line search problem :  optimal_inaccurate\n",
      "2.838773535952583e-06\n",
      "Status of line search problem :  optimal_inaccurate\n",
      "0.14411892437679996\n",
      "    Max inner iterations reached\n",
      "     Number of inner loop iterations:  30\n"
     ]
    }
   ],
   "source": [
    "G_list, y_list, opt_res, OD_list, i, balance_list = FW_graph_extension(G_ref, OD, edge_list, ri_ref, FW_tol=0,\n",
    "                       step='line_search', evolving_bounds=False, max_iter=30,\n",
    "                       stopping_criterion='relative_progress', update_factor=1.1, i_offset = 0)"
   ]
  },
  {
   "cell_type": "code",
   "execution_count": 93,
   "metadata": {},
   "outputs": [
    {
     "data": {
      "text/plain": [
       "[<matplotlib.lines.Line2D at 0xa1db1ba20>]"
      ]
     },
     "execution_count": 93,
     "metadata": {},
     "output_type": "execute_result"
    },
    {
     "data": {
      "image/png": "[encoded data removed]",
      "text/plain": [
       "<Figure size 432x288 with 1 Axes>"
      ]
     },
     "metadata": {
      "needs_background": "light"
     },
     "output_type": "display_data"
    }
   ],
   "source": [
    "plt.plot(balance_list)"
   ]
  },
  {
   "cell_type": "markdown",
   "metadata": {},
   "source": [
    "this might be one of the reasons we see bumps : the scale (because we do not initialize very well). "
   ]
  },
  {
   "cell_type": "code",
   "execution_count": 83,
   "metadata": {},
   "outputs": [
    {
     "data": {
      "text/plain": [
       "[<matplotlib.lines.Line2D at 0xa1dcfcc88>]"
      ]
     },
     "execution_count": 83,
     "metadata": {},
     "output_type": "execute_result"
    },
    {
     "data": {
      "image/png": "[encoded data removed]",
      "text/plain": [
       "<Figure size 432x288 with 1 Axes>"
      ]
     },
     "metadata": {
      "needs_background": "light"
     },
     "output_type": "display_data"
    }
   ],
   "source": [
    "plt.plot(opt_res['obj'])\n",
    "# plt.yscale('log')"
   ]
  },
  {
   "cell_type": "code",
   "execution_count": 76,
   "metadata": {},
   "outputs": [
    {
     "data": {
      "text/plain": [
       "[<matplotlib.lines.Line2D at 0xa1db4c400>]"
      ]
     },
     "execution_count": 76,
     "metadata": {},
     "output_type": "execute_result"
    },
    {
     "data": {
      "image/png": "[encoded data removed]",
      "text/plain": [
       "<Figure size 432x288 with 1 Axes>"
      ]
     },
     "metadata": {
      "needs_background": "light"
     },
     "output_type": "display_data"
    }
   ],
   "source": [
    "plt.plot(opt_res['obj'])\n",
    "# plt.yscale('log')"
   ]
  },
  {
   "cell_type": "code",
   "execution_count": 94,
   "metadata": {},
   "outputs": [
    {
     "data": {
      "text/plain": [
       "[<matplotlib.lines.Line2D at 0xa1de9ce80>]"
      ]
     },
     "execution_count": 94,
     "metadata": {},
     "output_type": "execute_result"
    },
    {
     "data": {
      "image/png": "[encoded data removed]",
      "text/plain": [
       "<Figure size 432x288 with 1 Axes>"
      ]
     },
     "metadata": {
      "needs_background": "light"
     },
     "output_type": "display_data"
    }
   ],
   "source": [
    "plt.plot(opt_res['obj'])\n",
    "# plt.yscale('log')"
   ]
  },
  {
   "cell_type": "code",
   "execution_count": 96,
   "metadata": {},
   "outputs": [],
   "source": [
    "G_ = G_list[-1]"
   ]
  },
  {
   "cell_type": "code",
   "execution_count": 98,
   "metadata": {},
   "outputs": [
    {
     "name": "stdout",
     "output_type": "stream",
     "text": [
      "8.640235368882333\n",
      "<class 'numpy.float64'>\n",
      "0.0\n",
      "<class 'numpy.float64'>\n",
      "2.6969300619585677\n",
      "<class 'numpy.float64'>\n",
      "1.3597646311176654\n",
      "<class 'numpy.float64'>\n",
      "2.6969300619585677\n",
      "<class 'numpy.float64'>\n",
      "0.0\n",
      "<class 'numpy.float64'>\n",
      "8.640235368882333\n",
      "<class 'numpy.float64'>\n",
      "7.3030699380414275\n",
      "<class 'numpy.float64'>\n"
     ]
    }
   ],
   "source": [
    "for e in G_.edges():\n",
    "    print(G_[e[0]][e[1]]['f_m'])\n",
    "    print(type(G_[e[0]][e[1]]['f_m']))"
   ]
  },
  {
   "cell_type": "code",
   "execution_count": null,
   "metadata": {},
   "outputs": [],
   "source": []
  }
 ],
 "metadata": {
  "kernelspec": {
   "display_name": "Python 3.6.8 64-bit ('base': conda)",
   "language": "python",
   "name": "python36864bitbaseconda750b8e9e7bda4c4c8e0af5d270c01c3d"
  },
  "language_info": {
   "codemirror_mode": {
    "name": "ipython",
    "version": 3
   },
   "file_extension": ".py",
   "mimetype": "text/x-python",
   "name": "python",
   "nbconvert_exporter": "python",
   "pygments_lexer": "ipython3",
   "version": "3.6.8"
  },
  "toc": {
   "base_numbering": 1,
   "nav_menu": {},
   "number_sections": true,
   "sideBar": true,
   "skip_h1_title": false,
   "title_cell": "Table of Contents",
   "title_sidebar": "Contents",
   "toc_cell": true,
   "toc_position": {},
   "toc_section_display": true,
   "toc_window_display": true
  },
  "varInspector": {
   "cols": {
    "lenName": 16,
    "lenType": 16,
    "lenVar": 40
   },
   "kernels_config": {
    "python": {
     "delete_cmd_postfix": "",
     "delete_cmd_prefix": "del ",
     "library": "var_list.py",
     "varRefreshCmd": "print(var_dic_list())"
    },
    "r": {
     "delete_cmd_postfix": ") ",
     "delete_cmd_prefix": "rm(",
     "library": "var_list.r",
     "varRefreshCmd": "cat(var_dic_list()) "
    }
   },
   "types_to_exclude": [
    "module",
    "function",
    "builtin_function_or_method",
    "instance",
    "_Feature"
   ],
   "window_display": false
  }
 },
 "nbformat": 4,
 "nbformat_minor": 2
}
