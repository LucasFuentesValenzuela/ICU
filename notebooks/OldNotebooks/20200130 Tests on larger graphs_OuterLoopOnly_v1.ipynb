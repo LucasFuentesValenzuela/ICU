{
 "cells": [
  {
   "cell_type": "markdown",
   "metadata": {
    "toc": true
   },
   "source": [
    "<h1>Table of Contents<span class=\"tocSkip\"></span></h1>\n",
    "<div class=\"toc\"><ul class=\"toc-item\"><li><span><a href=\"#Description\" data-toc-modified-id=\"Description-1\"><span class=\"toc-item-num\">1&nbsp;&nbsp;</span>Description</a></span></li><li><span><a href=\"#Load\" data-toc-modified-id=\"Load-2\"><span class=\"toc-item-num\">2&nbsp;&nbsp;</span>Load</a></span></li><li><span><a href=\"#Scenario-1\" data-toc-modified-id=\"Scenario-1-3\"><span class=\"toc-item-num\">3&nbsp;&nbsp;</span>Scenario 1</a></span><ul class=\"toc-item\"><li><span><a href=\"#Solving-with-Outer-Loop\" data-toc-modified-id=\"Solving-with-Outer-Loop-3.1\"><span class=\"toc-item-num\">3.1&nbsp;&nbsp;</span>Solving with Outer Loop</a></span></li></ul></li><li><span><a href=\"#Scenario-2\" data-toc-modified-id=\"Scenario-2-4\"><span class=\"toc-item-num\">4&nbsp;&nbsp;</span>Scenario 2</a></span><ul class=\"toc-item\"><li><span><a href=\"#Solving-with-Outer-Loop\" data-toc-modified-id=\"Solving-with-Outer-Loop-4.1\"><span class=\"toc-item-num\">4.1&nbsp;&nbsp;</span>Solving with Outer Loop</a></span></li></ul></li><li><span><a href=\"#Scenario-3\" data-toc-modified-id=\"Scenario-3-5\"><span class=\"toc-item-num\">5&nbsp;&nbsp;</span>Scenario 3</a></span><ul class=\"toc-item\"><li><span><a href=\"#Solving-with-Outer-Loop\" data-toc-modified-id=\"Solving-with-Outer-Loop-5.1\"><span class=\"toc-item-num\">5.1&nbsp;&nbsp;</span>Solving with Outer Loop</a></span></li></ul></li><li><span><a href=\"#Nice-things-to-add\" data-toc-modified-id=\"Nice-things-to-add-6\"><span class=\"toc-item-num\">6&nbsp;&nbsp;</span>Nice things to add</a></span></li></ul></div>"
   ]
  },
  {
   "cell_type": "markdown",
   "metadata": {},
   "source": [
    "# Description"
   ]
  },
  {
   "cell_type": "markdown",
   "metadata": {},
   "source": [
    "This notebook will implement the Outer Loop algorithm only. \n",
    "We want to test its scalability and also build a few viz routines in order to explore the results and their evolution"
   ]
  },
  {
   "cell_type": "markdown",
   "metadata": {},
   "source": [
    "# Load"
   ]
  },
  {
   "cell_type": "code",
   "execution_count": 24,
   "metadata": {},
   "outputs": [
    {
     "name": "stdout",
     "output_type": "stream",
     "text": [
      "The autoreload extension is already loaded. To reload it, use:\n",
      "  %reload_ext autoreload\n"
     ]
    }
   ],
   "source": [
    "%load_ext autoreload\n",
    "%autoreload 2\n",
    "import networkx as nx\n",
    "import matplotlib.pyplot as plt\n",
    "import numpy as np\n",
    "\n",
    "from graph import expand_graph\n",
    "\n",
    "import pandas as pd\n",
    "import os\n",
    "\n",
    "from graph import construct_graph, get_edge_list\n",
    "from FW_OuterUpdate import solve\n",
    "\n",
    "from result_analysis import check_flow_cons_at_OD_nodes, check_flow_cons"
   ]
  },
  {
   "cell_type": "markdown",
   "metadata": {},
   "source": [
    "# Scenario 1"
   ]
  },
  {
   "cell_type": "code",
   "execution_count": 3,
   "metadata": {},
   "outputs": [],
   "source": [
    "path='Data/2Nodes/'"
   ]
  },
  {
   "cell_type": "code",
   "execution_count": 4,
   "metadata": {},
   "outputs": [],
   "source": [
    "G_0, OD = construct_graph(path)"
   ]
  },
  {
   "cell_type": "code",
   "execution_count": 5,
   "metadata": {},
   "outputs": [],
   "source": [
    "edge_list=get_edge_list(G_0)"
   ]
  },
  {
   "cell_type": "markdown",
   "metadata": {},
   "source": [
    "## Solving with Outer Loop"
   ]
  },
  {
   "cell_type": "code",
   "execution_count": 23,
   "metadata": {},
   "outputs": [
    {
     "name": "stdout",
     "output_type": "stream",
     "text": [
      "##########################################\n",
      "ITERATION #:  1\n",
      "CURRENT RI_k\n",
      "{'1': 0, '1_p': 0, '2': 0, '2_p': 0, 'R': 0}\n",
      "CURRENT OD: {('1', '1_p'): 10, ('2', '2_p'): 10, ('1', 'R'): 0, ('2', 'R'): 0}\n",
      "     FW solved to tol\n",
      "     Number of inner loop iterations:  4710\n",
      "##########################################\n",
      "ITERATION #:  2\n",
      "CURRENT RI_k\n",
      "{'1': 5.637541764587381, '1_p': 0, '2': -5.637541764587381, '2_p': 0, 'R': 0}\n",
      "CURRENT OD: {('1', '1_p'): 10, ('2', '2_p'): 10, ('1', 'R'): 0, ('2', 'R'): 5.637541764587381}\n",
      "     FW solved to tol\n",
      "     Number of inner loop iterations:  4710\n"
     ]
    }
   ],
   "source": [
    "#tol: difference in ri between two iterations\n",
    "#FW_tol: value of the certificate\n",
    "\n",
    "G_FW,ri_FW, n_outer, n_inner = solve(G_0.copy(),OD.copy(),edge_list,tol=10**-4, FW_tol=10**-4, max_iter=5000)"
   ]
  },
  {
   "cell_type": "code",
   "execution_count": 29,
   "metadata": {},
   "outputs": [],
   "source": [
    "net_flow, l = check_flow_cons(G_FW[-1], OD)"
   ]
  },
  {
   "cell_type": "code",
   "execution_count": 32,
   "metadata": {},
   "outputs": [
    {
     "name": "stdout",
     "output_type": "stream",
     "text": [
      "1.632896157031126e-14\n"
     ]
    }
   ],
   "source": [
    "balance=check_flow_cons_at_OD_nodes(G_FW[-1], OD)\n",
    "print(np.linalg.norm(balance))"
   ]
  },
  {
   "cell_type": "markdown",
   "metadata": {},
   "source": [
    "# Scenario 2"
   ]
  },
  {
   "cell_type": "code",
   "execution_count": 37,
   "metadata": {},
   "outputs": [],
   "source": [
    "path='Data/3Nodes/'"
   ]
  },
  {
   "cell_type": "code",
   "execution_count": 38,
   "metadata": {},
   "outputs": [],
   "source": [
    "G_0, OD = construct_graph(path)"
   ]
  },
  {
   "cell_type": "code",
   "execution_count": 39,
   "metadata": {},
   "outputs": [],
   "source": [
    "edge_list=get_edge_list(G_0)"
   ]
  },
  {
   "cell_type": "markdown",
   "metadata": {},
   "source": [
    "## Solving with Outer Loop"
   ]
  },
  {
   "cell_type": "code",
   "execution_count": 23,
   "metadata": {},
   "outputs": [
    {
     "name": "stdout",
     "output_type": "stream",
     "text": [
      "##########################################\n",
      "ITERATION #:  1\n",
      "CURRENT RI_k\n",
      "{'1': 0, '1_p': 0, '2': 0, '2_p': 0, 'R': 0}\n",
      "CURRENT OD: {('1', '1_p'): 10, ('2', '2_p'): 10, ('1', 'R'): 0, ('2', 'R'): 0}\n",
      "     FW solved to tol\n",
      "     Number of inner loop iterations:  4710\n",
      "##########################################\n",
      "ITERATION #:  2\n",
      "CURRENT RI_k\n",
      "{'1': 5.637541764587381, '1_p': 0, '2': -5.637541764587381, '2_p': 0, 'R': 0}\n",
      "CURRENT OD: {('1', '1_p'): 10, ('2', '2_p'): 10, ('1', 'R'): 0, ('2', 'R'): 5.637541764587381}\n",
      "     FW solved to tol\n",
      "     Number of inner loop iterations:  4710\n"
     ]
    }
   ],
   "source": [
    "#tol: difference in ri between two iterations\n",
    "#FW_tol: value of the certificate\n",
    "\n",
    "G_FW,ri_FW, n_outer, n_inner = solve(G_0.copy(),OD.copy(),edge_list,tol=10**-4, FW_tol=10**-4, max_iter=5000)"
   ]
  },
  {
   "cell_type": "code",
   "execution_count": 29,
   "metadata": {},
   "outputs": [],
   "source": [
    "net_flow, l = check_flow_cons(G_FW[-1], OD)"
   ]
  },
  {
   "cell_type": "code",
   "execution_count": 32,
   "metadata": {},
   "outputs": [
    {
     "name": "stdout",
     "output_type": "stream",
     "text": [
      "1.632896157031126e-14\n"
     ]
    }
   ],
   "source": [
    "balance=check_flow_cons_at_OD_nodes(G_FW[-1], OD)\n",
    "print(np.linalg.norm(balance))"
   ]
  },
  {
   "cell_type": "markdown",
   "metadata": {},
   "source": [
    "# Scenario 3"
   ]
  },
  {
   "cell_type": "code",
   "execution_count": 48,
   "metadata": {},
   "outputs": [],
   "source": [
    "path='Data/3Nodes_ex2/'\n",
    "\n",
    "G_0, OD = construct_graph(path)"
   ]
  },
  {
   "cell_type": "code",
   "execution_count": 141,
   "metadata": {},
   "outputs": [
    {
     "data": {
      "text/plain": [
       "True"
      ]
     },
     "execution_count": 141,
     "metadata": {},
     "output_type": "execute_result"
    }
   ],
   "source": [
    "('1','2') in G_0.edges"
   ]
  },
  {
   "cell_type": "markdown",
   "metadata": {},
   "source": [
    "## Solving with Outer Loop"
   ]
  },
  {
   "cell_type": "code",
   "execution_count": 60,
   "metadata": {},
   "outputs": [
    {
     "name": "stdout",
     "output_type": "stream",
     "text": [
      "##########################################\n",
      "ITERATION #:  1\n",
      "CURRENT RI_k\n",
      "{'1': 0, '1_p': 0, '2': 0, '2_p': 0, '3': 0, '3_p': 0, 'R': 0}\n",
      "CURRENT OD: {('1', '1_p'): 20, ('2', '2_p'): 20, ('3', '3_p'): 20, ('1', 'R'): 0, ('2', 'R'): 0, ('3', 'R'): 0}\n",
      "     Max inner iterations reached\n",
      "     Number of inner loop iterations:  3000\n",
      "##########################################\n",
      "ITERATION #:  2\n",
      "CURRENT RI_k\n",
      "{'1': -6.996206683048811, '1_p': 0, '2': -0.26928620950466176, '2_p': 0, '3': 7.265492892553473, '3_p': 0, 'R': 0}\n",
      "CURRENT OD: {('1', '1_p'): 20, ('2', '2_p'): 20, ('3', '3_p'): 20, ('1', 'R'): 6.996206683048811, ('2', 'R'): 0.26928620950466176, ('3', 'R'): 0}\n",
      "     Max inner iterations reached\n",
      "     Number of inner loop iterations:  3000\n",
      "##########################################\n",
      "ITERATION #:  3\n",
      "CURRENT RI_k\n",
      "{'1': -6.99161127947359, '1_p': 0, '2': -0.27159945130436647, '2_p': 0, '3': 7.263210730777956, '3_p': 0, 'R': 0}\n",
      "CURRENT OD: {('1', '1_p'): 20, ('2', '2_p'): 20, ('3', '3_p'): 20, ('1', 'R'): 6.99161127947359, ('2', 'R'): 0.27159945130436647, ('3', 'R'): 0}\n",
      "     Max inner iterations reached\n",
      "     Number of inner loop iterations:  3000\n"
     ]
    }
   ],
   "source": [
    "#tol: difference in ri between two iterations\n",
    "#FW_tol: value of the certificate\n",
    "\n",
    "G_FW,ri_FW, n_outer, n_inner, balance = solve(G_0.copy(),OD.copy(),edge_list,tol=10**-4, FW_tol=10**-4, max_iter=3000)"
   ]
  },
  {
   "cell_type": "code",
   "execution_count": 61,
   "metadata": {},
   "outputs": [
    {
     "data": {
      "text/plain": [
       "array([1.00899361e+01, 5.62823987e-03, 4.11748982e-05])"
      ]
     },
     "execution_count": 61,
     "metadata": {},
     "output_type": "execute_result"
    }
   ],
   "source": [
    "balance"
   ]
  },
  {
   "cell_type": "code",
   "execution_count": 62,
   "metadata": {},
   "outputs": [
    {
     "data": {
      "text/plain": [
       "[<matplotlib.lines.Line2D at 0xa26d948d0>]"
      ]
     },
     "execution_count": 62,
     "metadata": {},
     "output_type": "execute_result"
    },
    {
     "data": {
      "image/png": "[encoded data removed]",
      "text/plain": [
       "<Figure size 432x288 with 1 Axes>"
      ]
     },
     "metadata": {
      "needs_background": "light"
     },
     "output_type": "display_data"
    }
   ],
   "source": [
    "plt.figure()\n",
    "plt.plot(balance)"
   ]
  },
  {
   "cell_type": "markdown",
   "metadata": {},
   "source": [
    "# Nice things to add"
   ]
  },
  {
   "cell_type": "markdown",
   "metadata": {},
   "source": [
    "- Evolution of an attribute over iterations\n",
    "- Graph representation of the different flows\n",
    "- Implement a function that actually shows whether or not you are satisfying the C = D-1 condition for all paths? \n",
    "- Vizualize how r_i evolves over the iterations"
   ]
  },
  {
   "cell_type": "code",
   "execution_count": null,
   "metadata": {},
   "outputs": [],
   "source": []
  }
 ],
 "metadata": {
  "kernelspec": {
   "display_name": "Python 3",
   "language": "python",
   "name": "python3"
  },
  "language_info": {
   "codemirror_mode": {
    "name": "ipython",
    "version": 3
   },
   "file_extension": ".py",
   "mimetype": "text/x-python",
   "name": "python",
   "nbconvert_exporter": "python",
   "pygments_lexer": "ipython3",
   "version": "3.6.8"
  },
  "toc": {
   "base_numbering": 1,
   "nav_menu": {},
   "number_sections": true,
   "sideBar": true,
   "skip_h1_title": false,
   "title_cell": "Table of Contents",
   "title_sidebar": "Contents",
   "toc_cell": true,
   "toc_position": {
    "height": "calc(100% - 180px)",
    "left": "10px",
    "top": "150px",
    "width": "165px"
   },
   "toc_section_display": true,
   "toc_window_display": true
  },
  "varInspector": {
   "cols": {
    "lenName": 16,
    "lenType": 16,
    "lenVar": 40
   },
   "kernels_config": {
    "python": {
     "delete_cmd_postfix": "",
     "delete_cmd_prefix": "del ",
     "library": "var_list.py",
     "varRefreshCmd": "print(var_dic_list())"
    },
    "r": {
     "delete_cmd_postfix": ") ",
     "delete_cmd_prefix": "rm(",
     "library": "var_list.r",
     "varRefreshCmd": "cat(var_dic_list()) "
    }
   },
   "types_to_exclude": [
    "module",
    "function",
    "builtin_function_or_method",
    "instance",
    "_Feature"
   ],
   "window_display": false
  }
 },
 "nbformat": 4,
 "nbformat_minor": 2
}
