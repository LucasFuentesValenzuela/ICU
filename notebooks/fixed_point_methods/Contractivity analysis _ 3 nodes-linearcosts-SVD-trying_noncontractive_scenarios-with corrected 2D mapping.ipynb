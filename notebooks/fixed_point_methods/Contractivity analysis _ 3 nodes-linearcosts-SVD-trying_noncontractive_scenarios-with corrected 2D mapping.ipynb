{
 "cells": [
  {
   "cell_type": "markdown",
   "metadata": {
    "toc": true
   },
   "source": [
    "<h1>Table of Contents<span class=\"tocSkip\"></span></h1>\n",
    "<div class=\"toc\"><ul class=\"toc-item\"><li><span><a href=\"#Description\" data-toc-modified-id=\"Description-1\"><span class=\"toc-item-num\">1&nbsp;&nbsp;</span>Description</a></span></li><li><span><a href=\"#Current-scenario\" data-toc-modified-id=\"Current-scenario-2\"><span class=\"toc-item-num\">2&nbsp;&nbsp;</span>Current scenario</a></span></li><li><span><a href=\"#Load\" data-toc-modified-id=\"Load-3\"><span class=\"toc-item-num\">3&nbsp;&nbsp;</span>Load</a></span><ul class=\"toc-item\"><li><span><a href=\"#Get-the-matrices\" data-toc-modified-id=\"Get-the-matrices-3.1\"><span class=\"toc-item-num\">3.1&nbsp;&nbsp;</span>Get the matrices</a></span></li><li><span><a href=\"#Viz-costs\" data-toc-modified-id=\"Viz-costs-3.2\"><span class=\"toc-item-num\">3.2&nbsp;&nbsp;</span>Viz costs</a></span></li></ul></li><li><span><a href=\"#Solve\" data-toc-modified-id=\"Solve-4\"><span class=\"toc-item-num\">4&nbsp;&nbsp;</span>Solve</a></span><ul class=\"toc-item\"><li><ul class=\"toc-item\"><li><span><a href=\"#Solving-the-linear-system\" data-toc-modified-id=\"Solving-the-linear-system-4.0.1\"><span class=\"toc-item-num\">4.0.1&nbsp;&nbsp;</span>Solving the linear system</a></span></li><li><span><a href=\"#SVD\" data-toc-modified-id=\"SVD-4.0.2\"><span class=\"toc-item-num\">4.0.2&nbsp;&nbsp;</span>SVD</a></span></li></ul></li><li><span><a href=\"#Trying-to-&quot;trick&quot;-the-system-and-create-a-counter-example.\" data-toc-modified-id=\"Trying-to-&quot;trick&quot;-the-system-and-create-a-counter-example.-4.1\"><span class=\"toc-item-num\">4.1&nbsp;&nbsp;</span>Trying to \"trick\" the system and create a counter example.</a></span><ul class=\"toc-item\"><li><span><a href=\"#Trying-to-see-if-the-algorithm-converges-or-not.\" data-toc-modified-id=\"Trying-to-see-if-the-algorithm-converges-or-not.-4.1.1\"><span class=\"toc-item-num\">4.1.1&nbsp;&nbsp;</span>Trying to see if the algorithm converges or not.</a></span></li><li><span><a href=\"#Analyze-the-results-and-the-associated-contractivity-ratio\" data-toc-modified-id=\"Analyze-the-results-and-the-associated-contractivity-ratio-4.1.2\"><span class=\"toc-item-num\">4.1.2&nbsp;&nbsp;</span>Analyze the results and the associated contractivity ratio</a></span></li></ul></li></ul></li></ul></div>"
   ]
  },
  {
   "cell_type": "code",
   "execution_count": null,
   "metadata": {},
   "outputs": [],
   "source": [
    "from matplotlib import rc\n",
    "rc('text', usetex=True)\n",
    "rc('font', size = 12)\n",
    "rc('xtick', labelsize = 12)\n",
    "rc('ytick', labelsize = 12)\n",
    "rc('figure', figsize = (8, 4))"
   ]
  },
  {
   "cell_type": "code",
   "execution_count": null,
   "metadata": {},
   "outputs": [],
   "source": [
    "%load_ext autoreload\n",
    "%autoreload 2\n",
    "\n",
    "import matplotlib.pyplot as plt\n",
    "from amod_ed.contractivity_v3 import viz_costs, _construct_problem\n",
    "from amod_ed.contractivity_v3 import sample_solutions, run_algorithm\n",
    "import cvxpy as cp\n",
    "import networkx as nx\n",
    "\n",
    "import pandas as pd\n",
    "\n",
    "from amod_ed.contractivity_v3 import plot_results_run, compute_error_KKT, get_d_values\n",
    "\n",
    "from amod_ed.contractivity_v3 import get_new_r, get_edge_flow, get_flow_edge_od"
   ]
  },
  {
   "cell_type": "code",
   "execution_count": null,
   "metadata": {},
   "outputs": [],
   "source": [
    "import numpy as np"
   ]
  },
  {
   "cell_type": "markdown",
   "metadata": {},
   "source": [
    "# Description"
   ]
  },
  {
   "cell_type": "markdown",
   "metadata": {},
   "source": [
    "The previous notebook with the same name aimed at reproducing some scenarios that had been identified as potentially non contractive (svd >1 ) with Matlab. However, the way the 2D mapping was done was not correct. And therefore, it was ambiguous whether this svd>1 value should be taken seriously or not. \n",
    "\n",
    "Indeed, we might have: \n",
    "- in 3D a direction that could not really be explored\n",
    "- in 2D the mapping was not properly defined I am afraid\n",
    "\n"
   ]
  },
  {
   "cell_type": "markdown",
   "metadata": {},
   "source": [
    "# Current scenario"
   ]
  },
  {
   "cell_type": "markdown",
   "metadata": {},
   "source": [
    "The scenario we want is the following: "
   ]
  },
  {
   "cell_type": "markdown",
   "metadata": {},
   "source": [
    "4     2     2     1     1     1\n",
    "\n",
    "     1     1     0     1     0     0"
   ]
  },
  {
   "cell_type": "markdown",
   "metadata": {},
   "source": [
    "# Load"
   ]
  },
  {
   "cell_type": "markdown",
   "metadata": {},
   "source": [
    "We load and then edit the graph characteristics to make sure we match the Matlab analysis parameters. "
   ]
  },
  {
   "cell_type": "code",
   "execution_count": null,
   "metadata": {},
   "outputs": [],
   "source": [
    "edges = pd.read_excel('cost_edges_3.xlsx')\n",
    "inv_edges = pd.read_excel('inv_demand_3.xlsx')"
   ]
  },
  {
   "cell_type": "code",
   "execution_count": null,
   "metadata": {},
   "outputs": [],
   "source": [
    "edges['phi']=3"
   ]
  },
  {
   "cell_type": "code",
   "execution_count": null,
   "metadata": {},
   "outputs": [],
   "source": [
    "edges['k']=1"
   ]
  },
  {
   "cell_type": "code",
   "execution_count": null,
   "metadata": {},
   "outputs": [],
   "source": [
    "edges.loc[1:, 'phi'] = 50"
   ]
  },
  {
   "cell_type": "code",
   "execution_count": null,
   "metadata": {},
   "outputs": [],
   "source": [
    "gamma = 40/3\n",
    "edges.loc[0, 'phi'] = edges.loc[0, 'phi']*gamma\n",
    "edges.loc[0, 'k'] = edges.loc[0, 'k']*gamma"
   ]
  },
  {
   "cell_type": "code",
   "execution_count": null,
   "metadata": {},
   "outputs": [],
   "source": [
    "gamma = 3/50\n",
    "\n",
    "edges.loc[2, 'phi'] = edges.loc[2, 'phi']*gamma*4\n",
    "edges.loc[2, 'k'] = edges.loc[2, 'k']*gamma*4"
   ]
  },
  {
   "cell_type": "code",
   "execution_count": null,
   "metadata": {},
   "outputs": [],
   "source": [
    "gamma = 50/500\n",
    "edges.loc[3, 'phi'] = edges.loc[3, 'phi']*gamma\n",
    "edges.loc[3, 'k'] = edges.loc[3, 'k']*gamma"
   ]
  },
  {
   "cell_type": "code",
   "execution_count": null,
   "metadata": {},
   "outputs": [],
   "source": [
    "gamma = 3/50\n",
    "\n",
    "edges.loc[5, 'phi'] = edges.loc[5, 'phi']*gamma\n",
    "edges.loc[5, 'k'] = edges.loc[5, 'k']*gamma"
   ]
  },
  {
   "cell_type": "code",
   "execution_count": null,
   "metadata": {},
   "outputs": [],
   "source": [
    "# edges.loc[3, 'phi'] = 140\n",
    "edges.loc[3, 'phi'] = 50"
   ]
  },
  {
   "cell_type": "code",
   "execution_count": null,
   "metadata": {},
   "outputs": [],
   "source": [
    "edges"
   ]
  },
  {
   "cell_type": "code",
   "execution_count": null,
   "metadata": {},
   "outputs": [],
   "source": [
    "inv_edges['k'] = .5"
   ]
  },
  {
   "cell_type": "code",
   "execution_count": null,
   "metadata": {},
   "outputs": [],
   "source": [
    "inv_edges['shift'] = 15"
   ]
  },
  {
   "cell_type": "code",
   "execution_count": null,
   "metadata": {},
   "outputs": [],
   "source": [
    "inv_edges['phi']+=1"
   ]
  },
  {
   "cell_type": "code",
   "execution_count": null,
   "metadata": {},
   "outputs": [],
   "source": [
    "inv_edges.loc[:, 'shift'] = 0\n",
    "inv_edges.loc[0, 'shift'] = 44\n",
    "inv_edges.loc[1, 'shift'] = 80\n",
    "inv_edges.loc[3, 'shift'] = 35"
   ]
  },
  {
   "cell_type": "code",
   "execution_count": null,
   "metadata": {},
   "outputs": [],
   "source": [
    "inv_edges"
   ]
  },
  {
   "cell_type": "markdown",
   "metadata": {},
   "source": [
    "## Get the matrices"
   ]
  },
  {
   "cell_type": "code",
   "execution_count": null,
   "metadata": {},
   "outputs": [],
   "source": [
    "alpha = 0.15"
   ]
  },
  {
   "cell_type": "code",
   "execution_count": null,
   "metadata": {},
   "outputs": [],
   "source": [
    "edges['A'] = edges['phi']/edges['k']/2 * alpha"
   ]
  },
  {
   "cell_type": "code",
   "execution_count": null,
   "metadata": {},
   "outputs": [],
   "source": [
    "edges"
   ]
  },
  {
   "cell_type": "code",
   "execution_count": null,
   "metadata": {},
   "outputs": [],
   "source": [
    "#order of edges in matlab\n",
    "#edges = [1,2;1,3;2,1;2,3;3,1;3,2];\n",
    "new_order = [0, 2, 1, 4, 3, 5]\n",
    "edges.loc[new_order, 'A']"
   ]
  },
  {
   "cell_type": "code",
   "execution_count": null,
   "metadata": {},
   "outputs": [],
   "source": [
    "edges.loc[new_order, 'phi']"
   ]
  },
  {
   "cell_type": "code",
   "execution_count": null,
   "metadata": {},
   "outputs": [],
   "source": [
    "inv_edges['D'] = inv_edges['phi']/inv_edges['k']/2 * alpha"
   ]
  },
  {
   "cell_type": "code",
   "execution_count": null,
   "metadata": {},
   "outputs": [],
   "source": [
    "inv_edges.loc[new_order, 'D']"
   ]
  },
  {
   "cell_type": "code",
   "execution_count": null,
   "metadata": {},
   "outputs": [],
   "source": [
    "inv_edges.loc[new_order, 'shift'] - inv_edges.loc[new_order, 'phi']"
   ]
  },
  {
   "cell_type": "markdown",
   "metadata": {},
   "source": [
    "## Viz costs"
   ]
  },
  {
   "cell_type": "markdown",
   "metadata": {},
   "source": [
    "Visualize the costs for each OD pair specified in the Excels. "
   ]
  },
  {
   "cell_type": "code",
   "execution_count": null,
   "metadata": {},
   "outputs": [],
   "source": [
    "# inv_edges['shift'] = inv_edges['shift']+15"
   ]
  },
  {
   "cell_type": "code",
   "execution_count": null,
   "metadata": {
    "scrolled": false
   },
   "outputs": [],
   "source": [
    "viz_costs(edges, inv_edges, name = 'costs1', save = False, correct = False, beta = 1)"
   ]
  },
  {
   "cell_type": "markdown",
   "metadata": {},
   "source": [
    "# Solve"
   ]
  },
  {
   "cell_type": "code",
   "execution_count": null,
   "metadata": {},
   "outputs": [],
   "source": [
    "correct = False"
   ]
  },
  {
   "cell_type": "code",
   "execution_count": null,
   "metadata": {},
   "outputs": [],
   "source": [
    "\"\"\"\n",
    "Returns\n",
    "-------\n",
    "f_p: cvxpy.Variable\n",
    "    The flow for each commodity on each edge\n",
    "f_r: cvxpy.Variable\n",
    "    The rebalancing flow on each edge\n",
    "r: cvxpy.Parameter\n",
    "    The rebalancing guess for each node\n",
    "d_var: cvxpy.Variable\n",
    "    The demand for each each\n",
    "prob: cvxpy.Problem\n",
    "    The optimization problem\n",
    "map_comps: dict\n",
    "    A map linking components of f_p to the edges and inv edges\n",
    "map_edges: dict\n",
    "    A map linking edges to components of f_p\n",
    "costs_dict: dict\n",
    "    Dict containing the cost for each edge\n",
    "inv_demand_dict: dict\n",
    "    The inverse demand cost for each od pair\n",
    "G: nx.DiGraph\n",
    "    Graph representing the network\n",
    "nodes: list\n",
    "    list of nodes\n",
    "\"\"\"\n",
    "f_p, f_r, r, d_var, prob, map_comps, map_edges,\\\n",
    " costs_dict, inv_d_dict, G, nodes = _construct_problem(edges, inv_edges, correct = correct, beta = 1)"
   ]
  },
  {
   "cell_type": "markdown",
   "metadata": {},
   "source": [
    "Specify a value of the rebalancing parameter"
   ]
  },
  {
   "cell_type": "code",
   "execution_count": null,
   "metadata": {},
   "outputs": [],
   "source": [
    "x = -1\n",
    "y = 1\n"
   ]
  },
  {
   "cell_type": "code",
   "execution_count": null,
   "metadata": {},
   "outputs": [],
   "source": [
    "r_new = [x, -x-y, y]\n",
    "r.value = r_new"
   ]
  },
  {
   "cell_type": "markdown",
   "metadata": {},
   "source": [
    "You can then solve the problem. "
   ]
  },
  {
   "cell_type": "code",
   "execution_count": null,
   "metadata": {},
   "outputs": [],
   "source": [
    "prob.solve(solver = cp.GUROBI)"
   ]
  },
  {
   "cell_type": "markdown",
   "metadata": {},
   "source": [
    "Check the status. "
   ]
  },
  {
   "cell_type": "code",
   "execution_count": null,
   "metadata": {},
   "outputs": [],
   "source": [
    "prob.status"
   ]
  },
  {
   "cell_type": "markdown",
   "metadata": {},
   "source": [
    "Therefore, the below function helps in analyzing and decomposing edge by edge for the passenger flow. "
   ]
  },
  {
   "cell_type": "code",
   "execution_count": null,
   "metadata": {},
   "outputs": [],
   "source": [
    "get_edge_flow(f_p, map_edges)"
   ]
  },
  {
   "cell_type": "code",
   "execution_count": null,
   "metadata": {},
   "outputs": [],
   "source": [
    "get_d_values(inv_edges, d_var)"
   ]
  },
  {
   "cell_type": "code",
   "execution_count": null,
   "metadata": {},
   "outputs": [],
   "source": [
    "edges"
   ]
  },
  {
   "cell_type": "code",
   "execution_count": null,
   "metadata": {},
   "outputs": [],
   "source": [
    "f_r.value"
   ]
  },
  {
   "cell_type": "code",
   "execution_count": null,
   "metadata": {},
   "outputs": [],
   "source": [
    "kkt_rel_error = compute_error_KKT(G, costs_dict, inv_d_dict, inv_edges, map_comps, f_p)"
   ]
  },
  {
   "cell_type": "code",
   "execution_count": null,
   "metadata": {},
   "outputs": [],
   "source": [
    "kkt_rel_error"
   ]
  },
  {
   "cell_type": "markdown",
   "metadata": {},
   "source": [
    "We can also compute directly the new rebalancing guess. "
   ]
  },
  {
   "cell_type": "code",
   "execution_count": null,
   "metadata": {},
   "outputs": [],
   "source": [
    "get_new_r(f_p, map_edges, nodes)"
   ]
  },
  {
   "cell_type": "markdown",
   "metadata": {},
   "source": [
    "### Solving the linear system"
   ]
  },
  {
   "cell_type": "markdown",
   "metadata": {},
   "source": [
    "We solve for 4 different values of $r$. We check that they all correspond to the same scenario. "
   ]
  },
  {
   "cell_type": "code",
   "execution_count": null,
   "metadata": {},
   "outputs": [],
   "source": [
    "y_vec = [.6, .75, .5, .8]\n",
    "r_list = []\n",
    "Tr_list = []\n",
    "x_vec = [-.5, -1, -.75, -.6]\n",
    "for i in range(4):\n",
    "    x = x_vec[i]\n",
    "    y = y_vec[i]\n",
    "    r_new = [x, -x-y, y]\n",
    "    r_list.append(r_new)\n",
    "    r.value = r_new\n",
    "\n",
    "    prob.solve(solver = cp.GUROBI)\n",
    "    print(\"-------\")\n",
    "    print(get_edge_flow(f_p, map_edges))\n",
    "    print(f_r.value)\n",
    "\n",
    "    print(get_d_values(inv_edges, d_var))\n",
    "\n",
    "    Tr_list.append(get_new_r(f_p, map_edges, nodes))"
   ]
  },
  {
   "cell_type": "code",
   "execution_count": null,
   "metadata": {},
   "outputs": [],
   "source": [
    "#we construct the A matrix in order to find the corresponding mapping\n",
    "b = np.zeros(4)\n",
    "A = np.zeros((4,4))\n",
    "for i in [0, 1]:\n",
    "    dTr = np.array(Tr_list[i]) - np.array(Tr_list[i+1])\n",
    "    dr = np.array(r_list[i]) - np.array(r_list[i+1])\n",
    "    s = i*2\n",
    "    drA = dr[:2]\n",
    "    A[s, :2] = drA\n",
    "    A[s+1, 2:] = drA\n",
    "    b[s:s+2] = dTr[:2]"
   ]
  },
  {
   "cell_type": "code",
   "execution_count": null,
   "metadata": {},
   "outputs": [],
   "source": [
    "A"
   ]
  },
  {
   "cell_type": "code",
   "execution_count": null,
   "metadata": {},
   "outputs": [],
   "source": [
    "sol = np.linalg.solve(A, b)"
   ]
  },
  {
   "cell_type": "code",
   "execution_count": null,
   "metadata": {},
   "outputs": [],
   "source": [
    "A_sol = [[sol[0], sol[1]], [sol[2], sol[3]]]"
   ]
  },
  {
   "cell_type": "code",
   "execution_count": null,
   "metadata": {},
   "outputs": [],
   "source": [
    "np.around(A_sol, 4)\n"
   ]
  },
  {
   "cell_type": "code",
   "execution_count": null,
   "metadata": {},
   "outputs": [],
   "source": [
    "#3D solution \n",
    "\n",
    "A_sol_3D = np.array([[1,0],[0, 1], [-1, -1]])@A_sol@np.array([[1, 0, 0], [0, 1, 0]])"
   ]
  },
  {
   "cell_type": "code",
   "execution_count": null,
   "metadata": {},
   "outputs": [],
   "source": [
    "A_sol_3D"
   ]
  },
  {
   "cell_type": "markdown",
   "metadata": {},
   "source": [
    "We check that $Tr_1 - Tr_2 = A(r_1 - r_2)$"
   ]
  },
  {
   "cell_type": "code",
   "execution_count": null,
   "metadata": {},
   "outputs": [],
   "source": [
    "#test\n",
    "i = 0\n",
    "print(A_sol_3D@(np.array(r_list[i])- np.array(r_list[i+1])))\n",
    "print(np.array(Tr_list[i]) - np.array(Tr_list[i+1]))"
   ]
  },
  {
   "cell_type": "code",
   "execution_count": null,
   "metadata": {},
   "outputs": [],
   "source": [
    "x = np.array([1, -1, 0])/np.sqrt(2)\n",
    "z = np.array([1, 1, 1])/np.sqrt(3)\n",
    "y = np.cross(z, x)\n",
    "T = np.array([x, y, z]).T\n",
    "T = T[:, :2]"
   ]
  },
  {
   "cell_type": "markdown",
   "metadata": {},
   "source": [
    "We map the solution matrix to 2D"
   ]
  },
  {
   "cell_type": "code",
   "execution_count": null,
   "metadata": {},
   "outputs": [],
   "source": [
    "A_sol_2D = T.T@A_sol_3D@T"
   ]
  },
  {
   "cell_type": "markdown",
   "metadata": {},
   "source": [
    "#This is what I am expecting to get: \n",
    "\n",
    "    0.8503    0.4967\n",
    "    \n",
    "   -0.0091    0.7675"
   ]
  },
  {
   "cell_type": "code",
   "execution_count": null,
   "metadata": {},
   "outputs": [],
   "source": [
    "A_sol_2D"
   ]
  },
  {
   "cell_type": "markdown",
   "metadata": {},
   "source": [
    "We see that the sv is >1. Also, we don't match with the one from matlab. \n",
    "\n",
    "\n",
    "Questions\n",
    "1. why don't we match with that from Matlab"
   ]
  },
  {
   "cell_type": "markdown",
   "metadata": {},
   "source": [
    "### SVD"
   ]
  },
  {
   "cell_type": "markdown",
   "metadata": {},
   "source": [
    "We get the SVD of this 2D matrix"
   ]
  },
  {
   "cell_type": "code",
   "execution_count": null,
   "metadata": {},
   "outputs": [],
   "source": [
    "u, s, vh = np.linalg.svd(A_sol_2D)"
   ]
  },
  {
   "cell_type": "markdown",
   "metadata": {},
   "source": [
    "The first sv is larger than 1. "
   ]
  },
  {
   "cell_type": "code",
   "execution_count": null,
   "metadata": {},
   "outputs": [],
   "source": [
    "s"
   ]
  },
  {
   "cell_type": "code",
   "execution_count": null,
   "metadata": {},
   "outputs": [],
   "source": [
    "A_sol_2D@vh[0,:]/s[0]"
   ]
  },
  {
   "cell_type": "markdown",
   "metadata": {},
   "source": [
    "The direction corresponding to this sv is the first right singular vector. "
   ]
  },
  {
   "cell_type": "code",
   "execution_count": null,
   "metadata": {},
   "outputs": [],
   "source": [
    "np.linalg.norm(A_sol_2D@vh[0,:])"
   ]
  },
  {
   "cell_type": "code",
   "execution_count": null,
   "metadata": {},
   "outputs": [],
   "source": [
    "vh[0,:]"
   ]
  },
  {
   "cell_type": "markdown",
   "metadata": {},
   "source": [
    "## Trying to \"trick\" the system and create a counter example. "
   ]
  },
  {
   "cell_type": "markdown",
   "metadata": {},
   "source": [
    "We construct two rebalancing vectors, one based on this non-contractive direction. "
   ]
  },
  {
   "cell_type": "code",
   "execution_count": null,
   "metadata": {},
   "outputs": [],
   "source": [
    "r1 = r_list[0]"
   ]
  },
  {
   "cell_type": "code",
   "execution_count": null,
   "metadata": {},
   "outputs": [],
   "source": [
    "#r in the 2D space\n",
    "r1_ = T.T@r1"
   ]
  },
  {
   "cell_type": "code",
   "execution_count": null,
   "metadata": {},
   "outputs": [],
   "source": [
    "dv = vh[0,:]"
   ]
  },
  {
   "cell_type": "code",
   "execution_count": null,
   "metadata": {},
   "outputs": [],
   "source": [
    "alpha = 0.01"
   ]
  },
  {
   "cell_type": "markdown",
   "metadata": {},
   "source": [
    "Here we construct $r_2 = r_1 +\\alpha dv$"
   ]
  },
  {
   "cell_type": "code",
   "execution_count": null,
   "metadata": {},
   "outputs": [],
   "source": [
    "r2_ = np.array(r1_)-alpha*np.array(dv)"
   ]
  },
  {
   "cell_type": "markdown",
   "metadata": {},
   "source": [
    "We solve the problem with the solver (mapping the 2D to the 3D vectors). We check that both are still corresponding to the same scenario. "
   ]
  },
  {
   "cell_type": "code",
   "execution_count": null,
   "metadata": {},
   "outputs": [],
   "source": [
    "Tr_ = []\n",
    "for r_new in [r1_, r2_]:\n",
    "    rnew_3D = T@r_new\n",
    "    r.value = rnew_3D\n",
    "\n",
    "    prob.solve(solver = cp.GUROBI)\n",
    "    print(\"-------\")\n",
    "    print(get_edge_flow(f_p, map_edges))\n",
    "    print(f_r.value)\n",
    "\n",
    "    print(get_d_values(inv_edges, d_var))\n",
    "\n",
    "    Tr_.append(get_new_r(f_p, map_edges, nodes))"
   ]
  },
  {
   "cell_type": "code",
   "execution_count": null,
   "metadata": {},
   "outputs": [],
   "source": [
    "dr = np.array(r1)-np.array(T@r2_)\n",
    "dT = np.array(Tr_[0]) - np.array(Tr_[1])\n",
    "\n",
    "dr_ = np.array(r1_)-np.array(r2_)\n",
    "dT_ = np.array(T.T@Tr_[0]-T.T@Tr_[1])"
   ]
  },
  {
   "cell_type": "markdown",
   "metadata": {},
   "source": [
    "Checking the norm of both the 3D and the 2D solutions. We see that both correspond. "
   ]
  },
  {
   "cell_type": "code",
   "execution_count": null,
   "metadata": {},
   "outputs": [],
   "source": [
    "print(np.linalg.norm(dr))\n",
    "print(np.linalg.norm(dT))"
   ]
  },
  {
   "cell_type": "code",
   "execution_count": null,
   "metadata": {},
   "outputs": [],
   "source": [
    "print(np.linalg.norm(dr_))\n",
    "\n",
    "print(np.linalg.norm(dT_))"
   ]
  },
  {
   "cell_type": "markdown",
   "metadata": {},
   "source": [
    "Checking the contractivity ratio. It is larger than 1. "
   ]
  },
  {
   "cell_type": "code",
   "execution_count": null,
   "metadata": {},
   "outputs": [],
   "source": [
    "np.linalg.norm(dT_)/np.linalg.norm(dr_)"
   ]
  },
  {
   "cell_type": "code",
   "execution_count": null,
   "metadata": {},
   "outputs": [],
   "source": [
    "np.linalg.norm(dT)/np.linalg.norm(dr)"
   ]
  },
  {
   "cell_type": "markdown",
   "metadata": {},
   "source": [
    "We also check that the solution matrix works for the chosen example (i.e. we remain in the same polyhedron). "
   ]
  },
  {
   "cell_type": "code",
   "execution_count": null,
   "metadata": {},
   "outputs": [],
   "source": [
    "A_sol_2D@dr_"
   ]
  },
  {
   "cell_type": "code",
   "execution_count": null,
   "metadata": {},
   "outputs": [],
   "source": [
    "dT_"
   ]
  },
  {
   "cell_type": "markdown",
   "metadata": {},
   "source": [
    "### Trying to see if the algorithm converges or not. "
   ]
  },
  {
   "cell_type": "code",
   "execution_count": null,
   "metadata": {},
   "outputs": [],
   "source": [
    "dr"
   ]
  },
  {
   "cell_type": "code",
   "execution_count": null,
   "metadata": {},
   "outputs": [],
   "source": [
    "r0 = [dr, T@r1_, T@r2_]"
   ]
  },
  {
   "cell_type": "code",
   "execution_count": null,
   "metadata": {},
   "outputs": [],
   "source": [
    "r_tot = run_algorithm(edges, inv_edges, r0 = r0, beta = 1, max_iter = 50)"
   ]
  },
  {
   "cell_type": "code",
   "execution_count": null,
   "metadata": {},
   "outputs": [],
   "source": [
    "plot_results_run(r_tot)"
   ]
  },
  {
   "cell_type": "markdown",
   "metadata": {},
   "source": [
    "### Analyze the results and the associated contractivity ratio"
   ]
  },
  {
   "cell_type": "code",
   "execution_count": null,
   "metadata": {},
   "outputs": [],
   "source": [
    "r_ = r_tot[2]"
   ]
  },
  {
   "cell_type": "code",
   "execution_count": null,
   "metadata": {},
   "outputs": [],
   "source": [
    "rat=[]\n",
    "for i in range(len(r_k)-2):\n",
    "    dr_crt = np.array(r_k[i+1])-np.array(r_k[i])\n",
    "    dT_crt = np.array(r_k[i+2])-np.array(r_k[i+1])\n",
    "    rat_crt = np.linalg.norm(dT_crt)/np.linalg.norm(dr_crt)\n",
    "    rat.append(rat_crt)"
   ]
  },
  {
   "cell_type": "code",
   "execution_count": null,
   "metadata": {},
   "outputs": [],
   "source": [
    "rat"
   ]
  },
  {
   "cell_type": "code",
   "execution_count": null,
   "metadata": {},
   "outputs": [],
   "source": [
    "IMAGES_PATH = \"/Users/lucasfuentes/ASL/Images/Contractivity_3Nodes/\""
   ]
  },
  {
   "cell_type": "code",
   "execution_count": null,
   "metadata": {},
   "outputs": [],
   "source": [
    "import os"
   ]
  },
  {
   "cell_type": "code",
   "execution_count": null,
   "metadata": {},
   "outputs": [],
   "source": [
    "_, ax = plt.subplots(2, 1, figsize = (8,4))\n",
    "for r_k in r_tot:\n",
    "    r_arr = np.array(r_k)\n",
    "    diff = [np.linalg.norm(r_arr[i,:] - r_arr[i+1,:]) for i in range(r_arr.shape[0]-1)]\n",
    "    ax[0].plot(diff)\n",
    "    rat=[]\n",
    "    for i in range(len(r_k)-2):\n",
    "        dr_crt = np.array(r_k[i+1])-np.array(r_k[i])\n",
    "        dT_crt = np.array(r_k[i+2])-np.array(r_k[i+1])\n",
    "        rat_crt = np.linalg.norm(dT_crt)/np.linalg.norm(dr_crt)\n",
    "        rat.append(rat_crt)\n",
    "    ax[1].plot(rat)\n",
    "ax[0].grid()\n",
    "ax[1].grid()\n",
    "ax[0].set_xlabel('$k$')\n",
    "ax[0].set_ylabel('$\\|r_k-r_{k+1}\\|$')\n",
    "ax[0].set_yscale('log')\n",
    "ax[1].set_xlabel('$k$')\n",
    "ax[1].set_ylabel('$\\|sdf{k+1}\\|/|r_k-r_{k+1}\\|$')\n",
    "plt.savefig(os.path.join(IMAGES_PATH, \"non_contractivity.png\"),dpi = 200, transparent =True)"
   ]
  },
  {
   "cell_type": "code",
   "execution_count": null,
   "metadata": {},
   "outputs": [],
   "source": [
    "_, ax = plt.subplots(2, 1, figsize = (8,4))\n",
    "for r_k in r_tot:\n",
    "    r_arr = np.array(r_k)\n",
    "    diff = [np.linalg.norm(r_arr[i,:] - r_arr[i+1,:]) for i in range(r_arr.shape[0]-1)]\n",
    "    ax[0].plot(diff)\n",
    "    rat=[]\n",
    "    for i in range(len(r_k)-2):\n",
    "        dr_crt = np.array(r_k[i+1])-np.array(r_k[i])\n",
    "        dT_crt = np.array(r_k[i+2])-np.array(r_k[i+1])\n",
    "        rat_crt = np.linalg.norm(dT_crt)/np.linalg.norm(dr_crt)\n",
    "        rat.append(rat_crt)\n",
    "    ax[1].plot(rat)\n",
    "ax[0].grid()\n",
    "ax[1].grid()\n",
    "ax[0].set_xlabel('$k$')\n",
    "ax[0].set_ylabel('$\\|r_k-r_{k+1}\\|$')\n",
    "ax[0].set_yscale('log')\n",
    "ax[1].set_xlabel('$k$')\n",
    "ax[1].set_ylabel('$\\|T_k - T_{k_1}\\|/\\|r_k-r_{k+1}\\|$')\n",
    "plt.savefig(os.path.join(IMAGES_PATH, \"non_contractivity.png\"),dpi = 200, transparent =True)"
   ]
  },
  {
   "cell_type": "code",
   "execution_count": null,
   "metadata": {},
   "outputs": [],
   "source": []
  },
  {
   "cell_type": "code",
   "execution_count": null,
   "metadata": {},
   "outputs": [],
   "source": []
  }
 ],
 "metadata": {
  "kernelspec": {
   "display_name": "Python [conda env:py37] *",
   "language": "python",
   "name": "conda-env-py37-py"
  },
  "language_info": {
   "codemirror_mode": {
    "name": "ipython",
    "version": 3
   },
   "file_extension": ".py",
   "mimetype": "text/x-python",
   "name": "python",
   "nbconvert_exporter": "python",
   "pygments_lexer": "ipython3",
   "version": "3.7.7"
  },
  "toc": {
   "base_numbering": 1,
   "nav_menu": {},
   "number_sections": true,
   "sideBar": true,
   "skip_h1_title": false,
   "title_cell": "Table of Contents",
   "title_sidebar": "Contents",
   "toc_cell": true,
   "toc_position": {
    "height": "calc(100% - 180px)",
    "left": "10px",
    "top": "150px",
    "width": "165px"
   },
   "toc_section_display": true,
   "toc_window_display": true
  },
  "varInspector": {
   "cols": {
    "lenName": 16,
    "lenType": 16,
    "lenVar": 40
   },
   "kernels_config": {
    "python": {
     "delete_cmd_postfix": "",
     "delete_cmd_prefix": "del ",
     "library": "var_list.py",
     "varRefreshCmd": "print(var_dic_list())"
    },
    "r": {
     "delete_cmd_postfix": ") ",
     "delete_cmd_prefix": "rm(",
     "library": "var_list.r",
     "varRefreshCmd": "cat(var_dic_list()) "
    }
   },
   "types_to_exclude": [
    "module",
    "function",
    "builtin_function_or_method",
    "instance",
    "_Feature"
   ],
   "window_display": false
  }
 },
 "nbformat": 4,
 "nbformat_minor": 2
}
