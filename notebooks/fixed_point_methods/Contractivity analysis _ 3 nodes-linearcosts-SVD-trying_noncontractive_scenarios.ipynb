{
 "cells": [
  {
   "cell_type": "markdown",
   "metadata": {
    "toc": true
   },
   "source": [
    "<h1>Table of Contents<span class=\"tocSkip\"></span></h1>\n",
    "<div class=\"toc\"><ul class=\"toc-item\"><li><span><a href=\"#Description\" data-toc-modified-id=\"Description-1\"><span class=\"toc-item-num\">1&nbsp;&nbsp;</span>Description</a></span></li><li><span><a href=\"#Load\" data-toc-modified-id=\"Load-2\"><span class=\"toc-item-num\">2&nbsp;&nbsp;</span>Load</a></span><ul class=\"toc-item\"><li><span><a href=\"#Get-the-matrices\" data-toc-modified-id=\"Get-the-matrices-2.1\"><span class=\"toc-item-num\">2.1&nbsp;&nbsp;</span>Get the matrices</a></span></li><li><span><a href=\"#Viz-costs\" data-toc-modified-id=\"Viz-costs-2.2\"><span class=\"toc-item-num\">2.2&nbsp;&nbsp;</span>Viz costs</a></span></li></ul></li><li><span><a href=\"#Solve\" data-toc-modified-id=\"Solve-3\"><span class=\"toc-item-num\">3&nbsp;&nbsp;</span>Solve</a></span><ul class=\"toc-item\"><li><span><a href=\"#Studying-cases-from-matlab\" data-toc-modified-id=\"Studying-cases-from-matlab-3.1\"><span class=\"toc-item-num\">3.1&nbsp;&nbsp;</span>Studying cases from matlab</a></span><ul class=\"toc-item\"><li><span><a href=\"#Solving-the-linear-system\" data-toc-modified-id=\"Solving-the-linear-system-3.1.1\"><span class=\"toc-item-num\">3.1.1&nbsp;&nbsp;</span>Solving the linear system</a></span></li></ul></li><li><span><a href=\"#Trying-to-&quot;trick&quot;-the-system-and-create-a-counter-example.\" data-toc-modified-id=\"Trying-to-&quot;trick&quot;-the-system-and-create-a-counter-example.-3.2\"><span class=\"toc-item-num\">3.2&nbsp;&nbsp;</span>Trying to \"trick\" the system and create a counter example.</a></span></li></ul></li></ul></div>"
   ]
  },
  {
   "cell_type": "code",
   "execution_count": 1,
   "metadata": {},
   "outputs": [],
   "source": [
    "from matplotlib import rc\n",
    "rc('text', usetex=True)\n",
    "rc('font', size = 12)\n",
    "rc('xtick', labelsize = 12)\n",
    "rc('ytick', labelsize = 12)\n",
    "rc('figure', figsize = (8, 4))"
   ]
  },
  {
   "cell_type": "code",
   "execution_count": 2,
   "metadata": {},
   "outputs": [],
   "source": [
    "%load_ext autoreload\n",
    "%autoreload 2\n",
    "\n",
    "import matplotlib.pyplot as plt\n",
    "from amod_ed.contractivity_v3 import viz_costs, _construct_problem\n",
    "from amod_ed.contractivity_v3 import sample_solutions, run_algorithm\n",
    "import cvxpy as cp\n",
    "import networkx as nx\n",
    "\n",
    "import pandas as pd\n",
    "\n",
    "from amod_ed.contractivity_v3 import plot_results_run, compute_error_KKT, get_d_values\n",
    "\n",
    "from amod_ed.contractivity_v3 import get_new_r, get_edge_flow, get_flow_edge_od"
   ]
  },
  {
   "cell_type": "code",
   "execution_count": 3,
   "metadata": {},
   "outputs": [],
   "source": [
    "import numpy as np"
   ]
  },
  {
   "cell_type": "markdown",
   "metadata": {},
   "source": [
    "# Description"
   ]
  },
  {
   "cell_type": "markdown",
   "metadata": {},
   "source": [
    "# Load"
   ]
  },
  {
   "cell_type": "markdown",
   "metadata": {},
   "source": [
    "The characteristics of the graph are loaded from Excel files. "
   ]
  },
  {
   "cell_type": "code",
   "execution_count": 4,
   "metadata": {},
   "outputs": [],
   "source": [
    "edges = pd.read_excel('cost_edges_3.xlsx')\n",
    "inv_edges = pd.read_excel('inv_demand_3.xlsx')"
   ]
  },
  {
   "cell_type": "code",
   "execution_count": 5,
   "metadata": {},
   "outputs": [],
   "source": [
    "edges['phi']=3"
   ]
  },
  {
   "cell_type": "code",
   "execution_count": 6,
   "metadata": {},
   "outputs": [],
   "source": [
    "edges['k']=1"
   ]
  },
  {
   "cell_type": "code",
   "execution_count": 7,
   "metadata": {},
   "outputs": [],
   "source": [
    "edges.loc[1:, 'phi'] = 50"
   ]
  },
  {
   "cell_type": "code",
   "execution_count": 8,
   "metadata": {},
   "outputs": [],
   "source": [
    "edges.loc[0, 'phi'] = edges.loc[0, 'phi']*80/3\n",
    "edges.loc[0, 'k'] = edges.loc[0, 'k']*80/3"
   ]
  },
  {
   "cell_type": "code",
   "execution_count": 9,
   "metadata": {},
   "outputs": [],
   "source": [
    "gamma = 3/50\n",
    "\n",
    "edges.loc[2, 'phi'] = edges.loc[2, 'phi']*gamma*4\n",
    "edges.loc[2, 'k'] = edges.loc[2, 'k']*gamma*4"
   ]
  },
  {
   "cell_type": "code",
   "execution_count": 10,
   "metadata": {},
   "outputs": [],
   "source": [
    "gamma = 50/500\n",
    "edges.loc[3, 'phi'] = edges.loc[3, 'phi']*gamma\n",
    "edges.loc[3, 'k'] = edges.loc[3, 'k']*gamma"
   ]
  },
  {
   "cell_type": "code",
   "execution_count": 11,
   "metadata": {},
   "outputs": [],
   "source": [
    "gamma = 3/50\n",
    "\n",
    "edges.loc[5, 'phi'] = edges.loc[5, 'phi']*gamma\n",
    "edges.loc[5, 'k'] = edges.loc[5, 'k']*gamma"
   ]
  },
  {
   "cell_type": "code",
   "execution_count": 12,
   "metadata": {},
   "outputs": [],
   "source": [
    "# edges.loc[3, 'phi'] = 140\n",
    "edges.loc[3, 'phi'] = 50"
   ]
  },
  {
   "cell_type": "code",
   "execution_count": 13,
   "metadata": {},
   "outputs": [
    {
     "data": {
      "text/html": [
       "<div>\n",
       "<style scoped>\n",
       "    .dataframe tbody tr th:only-of-type {\n",
       "        vertical-align: middle;\n",
       "    }\n",
       "\n",
       "    .dataframe tbody tr th {\n",
       "        vertical-align: top;\n",
       "    }\n",
       "\n",
       "    .dataframe thead th {\n",
       "        text-align: right;\n",
       "    }\n",
       "</style>\n",
       "<table border=\"1\" class=\"dataframe\">\n",
       "  <thead>\n",
       "    <tr style=\"text-align: right;\">\n",
       "      <th></th>\n",
       "      <th>origin</th>\n",
       "      <th>destination</th>\n",
       "      <th>phi</th>\n",
       "      <th>k</th>\n",
       "    </tr>\n",
       "  </thead>\n",
       "  <tbody>\n",
       "    <tr>\n",
       "      <th>0</th>\n",
       "      <td>1</td>\n",
       "      <td>2</td>\n",
       "      <td>80.0</td>\n",
       "      <td>26.666667</td>\n",
       "    </tr>\n",
       "    <tr>\n",
       "      <th>1</th>\n",
       "      <td>2</td>\n",
       "      <td>1</td>\n",
       "      <td>50.0</td>\n",
       "      <td>1.000000</td>\n",
       "    </tr>\n",
       "    <tr>\n",
       "      <th>2</th>\n",
       "      <td>1</td>\n",
       "      <td>3</td>\n",
       "      <td>12.0</td>\n",
       "      <td>0.240000</td>\n",
       "    </tr>\n",
       "    <tr>\n",
       "      <th>3</th>\n",
       "      <td>3</td>\n",
       "      <td>1</td>\n",
       "      <td>50.0</td>\n",
       "      <td>0.100000</td>\n",
       "    </tr>\n",
       "    <tr>\n",
       "      <th>4</th>\n",
       "      <td>2</td>\n",
       "      <td>3</td>\n",
       "      <td>50.0</td>\n",
       "      <td>1.000000</td>\n",
       "    </tr>\n",
       "    <tr>\n",
       "      <th>5</th>\n",
       "      <td>3</td>\n",
       "      <td>2</td>\n",
       "      <td>3.0</td>\n",
       "      <td>0.060000</td>\n",
       "    </tr>\n",
       "  </tbody>\n",
       "</table>\n",
       "</div>"
      ],
      "text/plain": [
       "   origin  destination   phi          k\n",
       "0       1            2  80.0  26.666667\n",
       "1       2            1  50.0   1.000000\n",
       "2       1            3  12.0   0.240000\n",
       "3       3            1  50.0   0.100000\n",
       "4       2            3  50.0   1.000000\n",
       "5       3            2   3.0   0.060000"
      ]
     },
     "execution_count": 13,
     "metadata": {},
     "output_type": "execute_result"
    }
   ],
   "source": [
    "edges"
   ]
  },
  {
   "cell_type": "code",
   "execution_count": 14,
   "metadata": {},
   "outputs": [],
   "source": [
    "inv_edges['k'] = .5"
   ]
  },
  {
   "cell_type": "code",
   "execution_count": 15,
   "metadata": {},
   "outputs": [],
   "source": [
    "inv_edges['shift'] = 15"
   ]
  },
  {
   "cell_type": "code",
   "execution_count": 16,
   "metadata": {},
   "outputs": [],
   "source": [
    "inv_edges['phi']+=1"
   ]
  },
  {
   "cell_type": "code",
   "execution_count": 17,
   "metadata": {},
   "outputs": [],
   "source": [
    "inv_edges.loc[:, 'shift'] = 0\n",
    "inv_edges.loc[0, 'shift'] = 44\n",
    "inv_edges.loc[3, 'shift'] = 35"
   ]
  },
  {
   "cell_type": "code",
   "execution_count": 18,
   "metadata": {},
   "outputs": [
    {
     "data": {
      "text/html": [
       "<div>\n",
       "<style scoped>\n",
       "    .dataframe tbody tr th:only-of-type {\n",
       "        vertical-align: middle;\n",
       "    }\n",
       "\n",
       "    .dataframe tbody tr th {\n",
       "        vertical-align: top;\n",
       "    }\n",
       "\n",
       "    .dataframe thead th {\n",
       "        text-align: right;\n",
       "    }\n",
       "</style>\n",
       "<table border=\"1\" class=\"dataframe\">\n",
       "  <thead>\n",
       "    <tr style=\"text-align: right;\">\n",
       "      <th></th>\n",
       "      <th>origin</th>\n",
       "      <th>destination</th>\n",
       "      <th>phi</th>\n",
       "      <th>k</th>\n",
       "      <th>shift</th>\n",
       "    </tr>\n",
       "  </thead>\n",
       "  <tbody>\n",
       "    <tr>\n",
       "      <th>0</th>\n",
       "      <td>1</td>\n",
       "      <td>2</td>\n",
       "      <td>2</td>\n",
       "      <td>0.5</td>\n",
       "      <td>44</td>\n",
       "    </tr>\n",
       "    <tr>\n",
       "      <th>1</th>\n",
       "      <td>2</td>\n",
       "      <td>1</td>\n",
       "      <td>4</td>\n",
       "      <td>0.5</td>\n",
       "      <td>0</td>\n",
       "    </tr>\n",
       "    <tr>\n",
       "      <th>2</th>\n",
       "      <td>3</td>\n",
       "      <td>1</td>\n",
       "      <td>3</td>\n",
       "      <td>0.5</td>\n",
       "      <td>0</td>\n",
       "    </tr>\n",
       "    <tr>\n",
       "      <th>3</th>\n",
       "      <td>1</td>\n",
       "      <td>3</td>\n",
       "      <td>5</td>\n",
       "      <td>0.5</td>\n",
       "      <td>35</td>\n",
       "    </tr>\n",
       "    <tr>\n",
       "      <th>4</th>\n",
       "      <td>2</td>\n",
       "      <td>3</td>\n",
       "      <td>2</td>\n",
       "      <td>0.5</td>\n",
       "      <td>0</td>\n",
       "    </tr>\n",
       "    <tr>\n",
       "      <th>5</th>\n",
       "      <td>3</td>\n",
       "      <td>2</td>\n",
       "      <td>4</td>\n",
       "      <td>0.5</td>\n",
       "      <td>0</td>\n",
       "    </tr>\n",
       "  </tbody>\n",
       "</table>\n",
       "</div>"
      ],
      "text/plain": [
       "   origin  destination  phi    k  shift\n",
       "0       1            2    2  0.5     44\n",
       "1       2            1    4  0.5      0\n",
       "2       3            1    3  0.5      0\n",
       "3       1            3    5  0.5     35\n",
       "4       2            3    2  0.5      0\n",
       "5       3            2    4  0.5      0"
      ]
     },
     "execution_count": 18,
     "metadata": {},
     "output_type": "execute_result"
    }
   ],
   "source": [
    "inv_edges"
   ]
  },
  {
   "cell_type": "markdown",
   "metadata": {},
   "source": [
    "## Get the matrices"
   ]
  },
  {
   "cell_type": "code",
   "execution_count": 19,
   "metadata": {},
   "outputs": [],
   "source": [
    "alpha = 0.15"
   ]
  },
  {
   "cell_type": "code",
   "execution_count": 20,
   "metadata": {},
   "outputs": [],
   "source": [
    "edges['A'] = edges['phi']/edges['k']/2 * alpha"
   ]
  },
  {
   "cell_type": "code",
   "execution_count": 21,
   "metadata": {},
   "outputs": [
    {
     "data": {
      "text/html": [
       "<div>\n",
       "<style scoped>\n",
       "    .dataframe tbody tr th:only-of-type {\n",
       "        vertical-align: middle;\n",
       "    }\n",
       "\n",
       "    .dataframe tbody tr th {\n",
       "        vertical-align: top;\n",
       "    }\n",
       "\n",
       "    .dataframe thead th {\n",
       "        text-align: right;\n",
       "    }\n",
       "</style>\n",
       "<table border=\"1\" class=\"dataframe\">\n",
       "  <thead>\n",
       "    <tr style=\"text-align: right;\">\n",
       "      <th></th>\n",
       "      <th>origin</th>\n",
       "      <th>destination</th>\n",
       "      <th>phi</th>\n",
       "      <th>k</th>\n",
       "      <th>A</th>\n",
       "    </tr>\n",
       "  </thead>\n",
       "  <tbody>\n",
       "    <tr>\n",
       "      <th>0</th>\n",
       "      <td>1</td>\n",
       "      <td>2</td>\n",
       "      <td>80.0</td>\n",
       "      <td>26.666667</td>\n",
       "      <td>0.225</td>\n",
       "    </tr>\n",
       "    <tr>\n",
       "      <th>1</th>\n",
       "      <td>2</td>\n",
       "      <td>1</td>\n",
       "      <td>50.0</td>\n",
       "      <td>1.000000</td>\n",
       "      <td>3.750</td>\n",
       "    </tr>\n",
       "    <tr>\n",
       "      <th>2</th>\n",
       "      <td>1</td>\n",
       "      <td>3</td>\n",
       "      <td>12.0</td>\n",
       "      <td>0.240000</td>\n",
       "      <td>3.750</td>\n",
       "    </tr>\n",
       "    <tr>\n",
       "      <th>3</th>\n",
       "      <td>3</td>\n",
       "      <td>1</td>\n",
       "      <td>50.0</td>\n",
       "      <td>0.100000</td>\n",
       "      <td>37.500</td>\n",
       "    </tr>\n",
       "    <tr>\n",
       "      <th>4</th>\n",
       "      <td>2</td>\n",
       "      <td>3</td>\n",
       "      <td>50.0</td>\n",
       "      <td>1.000000</td>\n",
       "      <td>3.750</td>\n",
       "    </tr>\n",
       "    <tr>\n",
       "      <th>5</th>\n",
       "      <td>3</td>\n",
       "      <td>2</td>\n",
       "      <td>3.0</td>\n",
       "      <td>0.060000</td>\n",
       "      <td>3.750</td>\n",
       "    </tr>\n",
       "  </tbody>\n",
       "</table>\n",
       "</div>"
      ],
      "text/plain": [
       "   origin  destination   phi          k       A\n",
       "0       1            2  80.0  26.666667   0.225\n",
       "1       2            1  50.0   1.000000   3.750\n",
       "2       1            3  12.0   0.240000   3.750\n",
       "3       3            1  50.0   0.100000  37.500\n",
       "4       2            3  50.0   1.000000   3.750\n",
       "5       3            2   3.0   0.060000   3.750"
      ]
     },
     "execution_count": 21,
     "metadata": {},
     "output_type": "execute_result"
    }
   ],
   "source": [
    "edges"
   ]
  },
  {
   "cell_type": "code",
   "execution_count": 22,
   "metadata": {},
   "outputs": [
    {
     "data": {
      "text/plain": [
       "0     0.225\n",
       "2     3.750\n",
       "1     3.750\n",
       "4     3.750\n",
       "3    37.500\n",
       "5     3.750\n",
       "Name: A, dtype: float64"
      ]
     },
     "execution_count": 22,
     "metadata": {},
     "output_type": "execute_result"
    }
   ],
   "source": [
    "#order of edges in matlab\n",
    "#edges = [1,2;1,3;2,1;2,3;3,1;3,2];\n",
    "new_order = [0, 2, 1, 4, 3, 5]\n",
    "edges.loc[new_order, 'A']"
   ]
  },
  {
   "cell_type": "code",
   "execution_count": 23,
   "metadata": {},
   "outputs": [
    {
     "data": {
      "text/plain": [
       "0    80.0\n",
       "2    12.0\n",
       "1    50.0\n",
       "4    50.0\n",
       "3    50.0\n",
       "5     3.0\n",
       "Name: phi, dtype: float64"
      ]
     },
     "execution_count": 23,
     "metadata": {},
     "output_type": "execute_result"
    }
   ],
   "source": [
    "edges.loc[new_order, 'phi']"
   ]
  },
  {
   "cell_type": "code",
   "execution_count": 24,
   "metadata": {},
   "outputs": [],
   "source": [
    "inv_edges['D'] = inv_edges['phi']/inv_edges['k']/2 * alpha"
   ]
  },
  {
   "cell_type": "code",
   "execution_count": 25,
   "metadata": {},
   "outputs": [
    {
     "data": {
      "text/plain": [
       "0    0.30\n",
       "2    0.45\n",
       "1    0.60\n",
       "4    0.30\n",
       "3    0.75\n",
       "5    0.60\n",
       "Name: D, dtype: float64"
      ]
     },
     "execution_count": 25,
     "metadata": {},
     "output_type": "execute_result"
    }
   ],
   "source": [
    "inv_edges.loc[new_order, 'D']"
   ]
  },
  {
   "cell_type": "code",
   "execution_count": 26,
   "metadata": {},
   "outputs": [
    {
     "data": {
      "text/plain": [
       "0    42\n",
       "2    -3\n",
       "1    -4\n",
       "4    -2\n",
       "3    30\n",
       "5    -4\n",
       "dtype: int64"
      ]
     },
     "execution_count": 26,
     "metadata": {},
     "output_type": "execute_result"
    }
   ],
   "source": [
    "inv_edges.loc[new_order, 'shift'] - inv_edges.loc[new_order, 'phi']"
   ]
  },
  {
   "cell_type": "markdown",
   "metadata": {},
   "source": [
    "## Viz costs"
   ]
  },
  {
   "cell_type": "markdown",
   "metadata": {},
   "source": [
    "Visualize the costs for each OD pair specified in the Excels. "
   ]
  },
  {
   "cell_type": "code",
   "execution_count": 27,
   "metadata": {},
   "outputs": [],
   "source": [
    "# inv_edges['shift'] = inv_edges['shift']+15"
   ]
  },
  {
   "cell_type": "code",
   "execution_count": 28,
   "metadata": {
    "scrolled": false
   },
   "outputs": [
    {
     "data": {
      "image/png": "[encoded data removed]",
      "text/plain": [
       "<Figure size 864x864 with 6 Axes>"
      ]
     },
     "metadata": {
      "needs_background": "light"
     },
     "output_type": "display_data"
    }
   ],
   "source": [
    "viz_costs(edges, inv_edges, name = 'costs1', save = False, correct = False, beta = 1)"
   ]
  },
  {
   "cell_type": "code",
   "execution_count": 29,
   "metadata": {
    "scrolled": false
   },
   "outputs": [
    {
     "data": {
      "image/png": "[encoded data removed]",
      "text/plain": [
       "<Figure size 864x864 with 6 Axes>"
      ]
     },
     "metadata": {
      "needs_background": "light"
     },
     "output_type": "display_data"
    }
   ],
   "source": [
    "viz_costs(edges, inv_edges, name = 'costs1', save = False, correct = False, beta = 1)"
   ]
  },
  {
   "cell_type": "markdown",
   "metadata": {},
   "source": [
    "# Solve"
   ]
  },
  {
   "cell_type": "code",
   "execution_count": 30,
   "metadata": {},
   "outputs": [],
   "source": [
    "correct = False"
   ]
  },
  {
   "cell_type": "code",
   "execution_count": 31,
   "metadata": {},
   "outputs": [
    {
     "name": "stderr",
     "output_type": "stream",
     "text": [
      "/Users/lucasfuentes/miniconda3/envs/py37/lib/python3.7/site-packages/cvxpy/expressions/expression.py:516: UserWarning: \n",
      "This use of ``*`` has resulted in matrix multiplication.\n",
      "Using ``*`` for matrix multiplication has been deprecated since CVXPY 1.1.\n",
      "    Use ``*`` for matrix-scalar and vector-scalar multiplication.\n",
      "    Use ``@`` for matrix-matrix and matrix-vector multiplication.\n",
      "    Use ``multiply`` for elementwise multiplication.\n",
      "\n",
      "  warnings.warn(__STAR_MATMUL_WARNING__, UserWarning)\n",
      "/Users/lucasfuentes/miniconda3/envs/py37/lib/python3.7/site-packages/cvxpy/expressions/expression.py:516: UserWarning: \n",
      "This use of ``*`` has resulted in matrix multiplication.\n",
      "Using ``*`` for matrix multiplication has been deprecated since CVXPY 1.1.\n",
      "    Use ``*`` for matrix-scalar and vector-scalar multiplication.\n",
      "    Use ``@`` for matrix-matrix and matrix-vector multiplication.\n",
      "    Use ``multiply`` for elementwise multiplication.\n",
      "\n",
      "  warnings.warn(__STAR_MATMUL_WARNING__, UserWarning)\n",
      "/Users/lucasfuentes/miniconda3/envs/py37/lib/python3.7/site-packages/cvxpy/expressions/expression.py:516: UserWarning: \n",
      "This use of ``*`` has resulted in matrix multiplication.\n",
      "Using ``*`` for matrix multiplication has been deprecated since CVXPY 1.1.\n",
      "    Use ``*`` for matrix-scalar and vector-scalar multiplication.\n",
      "    Use ``@`` for matrix-matrix and matrix-vector multiplication.\n",
      "    Use ``multiply`` for elementwise multiplication.\n",
      "\n",
      "  warnings.warn(__STAR_MATMUL_WARNING__, UserWarning)\n"
     ]
    }
   ],
   "source": [
    "\"\"\"\n",
    "Returns\n",
    "-------\n",
    "f_p: cvxpy.Variable\n",
    "    The flow for each commodity on each edge\n",
    "f_r: cvxpy.Variable\n",
    "    The rebalancing flow on each edge\n",
    "r: cvxpy.Parameter\n",
    "    The rebalancing guess for each node\n",
    "d_var: cvxpy.Variable\n",
    "    The demand for each each\n",
    "prob: cvxpy.Problem\n",
    "    The optimization problem\n",
    "map_comps: dict\n",
    "    A map linking components of f_p to the edges and inv edges\n",
    "map_edges: dict\n",
    "    A map linking edges to components of f_p\n",
    "costs_dict: dict\n",
    "    Dict containing the cost for each edge\n",
    "inv_demand_dict: dict\n",
    "    The inverse demand cost for each od pair\n",
    "G: nx.DiGraph\n",
    "    Graph representing the network\n",
    "nodes: list\n",
    "    list of nodes\n",
    "\"\"\"\n",
    "f_p, f_r, r, d_var, prob, map_comps, map_edges,\\\n",
    " costs_dict, inv_d_dict, G, nodes = _construct_problem(edges, inv_edges, correct = correct, beta = 1)"
   ]
  },
  {
   "cell_type": "markdown",
   "metadata": {},
   "source": [
    "Specify a value of the rebalancing parameter"
   ]
  },
  {
   "cell_type": "code",
   "execution_count": 32,
   "metadata": {},
   "outputs": [],
   "source": [
    "x = -1\n",
    "y = 1"
   ]
  },
  {
   "cell_type": "code",
   "execution_count": 33,
   "metadata": {},
   "outputs": [],
   "source": [
    "r_new = [x, -x-y, y]\n",
    "r.value = r_new"
   ]
  },
  {
   "cell_type": "markdown",
   "metadata": {},
   "source": [
    "You can then solve the problem. "
   ]
  },
  {
   "cell_type": "code",
   "execution_count": 34,
   "metadata": {},
   "outputs": [
    {
     "name": "stdout",
     "output_type": "stream",
     "text": [
      "Academic license - for non-commercial use only\n"
     ]
    },
    {
     "data": {
      "text/plain": [
       "38.63696275210746"
      ]
     },
     "execution_count": 34,
     "metadata": {},
     "output_type": "execute_result"
    }
   ],
   "source": [
    "prob.solve(solver = cp.GUROBI)"
   ]
  },
  {
   "cell_type": "markdown",
   "metadata": {},
   "source": [
    "Check the status. "
   ]
  },
  {
   "cell_type": "code",
   "execution_count": 35,
   "metadata": {},
   "outputs": [
    {
     "data": {
      "text/plain": [
       "'optimal'"
      ]
     },
     "execution_count": 35,
     "metadata": {},
     "output_type": "execute_result"
    }
   ],
   "source": [
    "prob.status"
   ]
  },
  {
   "cell_type": "markdown",
   "metadata": {},
   "source": [
    "Therefore, the below function helps in analyzing and decomposing edge by edge for the passenger flow. "
   ]
  },
  {
   "cell_type": "code",
   "execution_count": 36,
   "metadata": {},
   "outputs": [
    {
     "data": {
      "text/plain": [
       "{(1, 2): 4.021091451111108e-12,\n",
       " (1, 3): 2.114613180524031,\n",
       " (2, 1): 4.983684238591613e-12,\n",
       " (2, 3): 4.852710955124168e-12,\n",
       " (3, 1): 3.4704453478133244e-12,\n",
       " (3, 2): 0.6876790831128278}"
      ]
     },
     "execution_count": 36,
     "metadata": {},
     "output_type": "execute_result"
    }
   ],
   "source": [
    "get_edge_flow(f_p, map_edges)"
   ]
  },
  {
   "cell_type": "code",
   "execution_count": 37,
   "metadata": {},
   "outputs": [
    {
     "data": {
      "text/plain": [
       "{(1, 2): 0.6876790831102448,\n",
       " (2, 1): 1.956935699973838e-12,\n",
       " (3, 1): 2.124727261984369e-12,\n",
       " (1, 3): 1.4269340974128633,\n",
       " (2, 3): 2.3403567022329006e-12,\n",
       " (3, 2): 3.487892278874176e-12}"
      ]
     },
     "execution_count": 37,
     "metadata": {},
     "output_type": "execute_result"
    }
   ],
   "source": [
    "get_d_values(inv_edges, d_var)"
   ]
  },
  {
   "cell_type": "code",
   "execution_count": 38,
   "metadata": {},
   "outputs": [
    {
     "data": {
      "text/html": [
       "<div>\n",
       "<style scoped>\n",
       "    .dataframe tbody tr th:only-of-type {\n",
       "        vertical-align: middle;\n",
       "    }\n",
       "\n",
       "    .dataframe tbody tr th {\n",
       "        vertical-align: top;\n",
       "    }\n",
       "\n",
       "    .dataframe thead th {\n",
       "        text-align: right;\n",
       "    }\n",
       "</style>\n",
       "<table border=\"1\" class=\"dataframe\">\n",
       "  <thead>\n",
       "    <tr style=\"text-align: right;\">\n",
       "      <th></th>\n",
       "      <th>origin</th>\n",
       "      <th>destination</th>\n",
       "      <th>phi</th>\n",
       "      <th>k</th>\n",
       "      <th>A</th>\n",
       "    </tr>\n",
       "  </thead>\n",
       "  <tbody>\n",
       "    <tr>\n",
       "      <th>0</th>\n",
       "      <td>1</td>\n",
       "      <td>2</td>\n",
       "      <td>80.0</td>\n",
       "      <td>26.666667</td>\n",
       "      <td>0.225</td>\n",
       "    </tr>\n",
       "    <tr>\n",
       "      <th>1</th>\n",
       "      <td>2</td>\n",
       "      <td>1</td>\n",
       "      <td>50.0</td>\n",
       "      <td>1.000000</td>\n",
       "      <td>3.750</td>\n",
       "    </tr>\n",
       "    <tr>\n",
       "      <th>2</th>\n",
       "      <td>1</td>\n",
       "      <td>3</td>\n",
       "      <td>12.0</td>\n",
       "      <td>0.240000</td>\n",
       "      <td>3.750</td>\n",
       "    </tr>\n",
       "    <tr>\n",
       "      <th>3</th>\n",
       "      <td>3</td>\n",
       "      <td>1</td>\n",
       "      <td>50.0</td>\n",
       "      <td>0.100000</td>\n",
       "      <td>37.500</td>\n",
       "    </tr>\n",
       "    <tr>\n",
       "      <th>4</th>\n",
       "      <td>2</td>\n",
       "      <td>3</td>\n",
       "      <td>50.0</td>\n",
       "      <td>1.000000</td>\n",
       "      <td>3.750</td>\n",
       "    </tr>\n",
       "    <tr>\n",
       "      <th>5</th>\n",
       "      <td>3</td>\n",
       "      <td>2</td>\n",
       "      <td>3.0</td>\n",
       "      <td>0.060000</td>\n",
       "      <td>3.750</td>\n",
       "    </tr>\n",
       "  </tbody>\n",
       "</table>\n",
       "</div>"
      ],
      "text/plain": [
       "   origin  destination   phi          k       A\n",
       "0       1            2  80.0  26.666667   0.225\n",
       "1       2            1  50.0   1.000000   3.750\n",
       "2       1            3  12.0   0.240000   3.750\n",
       "3       3            1  50.0   0.100000  37.500\n",
       "4       2            3  50.0   1.000000   3.750\n",
       "5       3            2   3.0   0.060000   3.750"
      ]
     },
     "execution_count": 38,
     "metadata": {},
     "output_type": "execute_result"
    }
   ],
   "source": [
    "edges"
   ]
  },
  {
   "cell_type": "code",
   "execution_count": 39,
   "metadata": {},
   "outputs": [
    {
     "data": {
      "text/plain": [
       "array([5.45197211e-13, 7.42693410e-01, 7.08125159e-13, 2.57306590e-01,\n",
       "       1.14013327e-12, 7.42693410e-01])"
      ]
     },
     "execution_count": 39,
     "metadata": {},
     "output_type": "execute_result"
    }
   ],
   "source": [
    "f_r.value"
   ]
  },
  {
   "cell_type": "code",
   "execution_count": 40,
   "metadata": {},
   "outputs": [],
   "source": [
    "kkt_rel_error = compute_error_KKT(G, costs_dict, inv_d_dict, inv_edges, map_comps, f_p)"
   ]
  },
  {
   "cell_type": "code",
   "execution_count": 41,
   "metadata": {},
   "outputs": [
    {
     "data": {
      "text/plain": [
       "{(1, 2): [nan, 1.0000000000055884],\n",
       " (2, 1): [nan, nan],\n",
       " (3, 1): [nan, nan],\n",
       " (1, 3): [nan, 1.0000000000019684],\n",
       " (2, 3): [nan, nan],\n",
       " (3, 2): [nan, nan]}"
      ]
     },
     "execution_count": 41,
     "metadata": {},
     "output_type": "execute_result"
    }
   ],
   "source": [
    "kkt_rel_error"
   ]
  },
  {
   "cell_type": "markdown",
   "metadata": {},
   "source": [
    "We can also compute directly the new rebalancing guess. "
   ]
  },
  {
   "cell_type": "code",
   "execution_count": 42,
   "metadata": {},
   "outputs": [
    {
     "data": {
      "text/plain": [
       "[-2.114613180519598, 0.6876790831070124, 1.4269340974125857]"
      ]
     },
     "execution_count": 42,
     "metadata": {},
     "output_type": "execute_result"
    }
   ],
   "source": [
    "get_new_r(f_p, map_edges, nodes)"
   ]
  },
  {
   "cell_type": "markdown",
   "metadata": {},
   "source": [
    "## Studying cases from matlab"
   ]
  },
  {
   "cell_type": "code",
   "execution_count": 43,
   "metadata": {},
   "outputs": [],
   "source": [
    "#we fix it to zero as we want to see which scenario we have\n",
    "y = .65\n",
    "r_list = []\n",
    "Tr_list = []\n",
    "for x in np.linspace(-.5, -.80, 10):\n",
    "    r_new = [x, -x-y, y]\n",
    "    r_list.append(r_new)\n",
    "    r.value = r_new\n",
    "\n",
    "    prob.solve(solver = cp.GUROBI)\n",
    "\n",
    "    get_edge_flow(f_p, map_edges)\n",
    "\n",
    "    get_d_values(inv_edges, d_var)\n",
    "\n",
    "    Tr_list.append(get_new_r(f_p, map_edges, nodes))"
   ]
  },
  {
   "cell_type": "code",
   "execution_count": 44,
   "metadata": {},
   "outputs": [],
   "source": [
    "rat_=[]\n",
    "for i in range(len(r_list)):\n",
    "    for j in range(i+1, len(r_list)):\n",
    "        r1 = np.array(r_list[i])\n",
    "        r2 = np.array(r_list[j])\n",
    "        Tr1 = np.array(Tr_list[i])\n",
    "        Tr2 = np.array(Tr_list[j])\n",
    "        \n",
    "        rat = np.linalg.norm(Tr1 - Tr2)/np.linalg.norm(r1-r2)\n",
    "        rat_.append(rat)"
   ]
  },
  {
   "cell_type": "code",
   "execution_count": 45,
   "metadata": {},
   "outputs": [
    {
     "data": {
      "text/plain": [
       "[0.06647283156865068,\n",
       " 0.06647283153866261,\n",
       " 0.06647283299410217,\n",
       " 0.06647283263479882,\n",
       " 0.0664728315620127,\n",
       " 0.0664728315457927,\n",
       " 0.06647283153386277,\n",
       " 0.06647283152470637,\n",
       " 0.06647283151744669,\n",
       " 0.06647283150867456,\n",
       " 0.06647283370682792,\n",
       " 0.06647283299018153,\n",
       " 0.0664728315603532,\n",
       " 0.06647283154122109,\n",
       " 0.06647283152806477,\n",
       " 0.06647283151842863,\n",
       " 0.0664728315110462,\n",
       " 0.06647283590498129,\n",
       " 0.06647283373093502,\n",
       " 0.06647283157757942,\n",
       " 0.06647283154935774,\n",
       " 0.0664728315319428,\n",
       " 0.06647283152005429,\n",
       " 0.066472831511385,\n",
       " 0.06647283155688875,\n",
       " 0.06647282941387848,\n",
       " 0.06647283009748321,\n",
       " 0.0664728304386832,\n",
       " 0.0664728306430689,\n",
       " 0.06647283077911896,\n",
       " 0.06647282727086823,\n",
       " 0.06647282936778046,\n",
       " 0.066472830065948,\n",
       " 0.06647283041461394,\n",
       " 0.06647283062356499,\n",
       " 0.06647283146469267,\n",
       " 0.06647283146348788,\n",
       " 0.06647283146252916,\n",
       " 0.06647283146173917,\n",
       " 0.0664728314622831,\n",
       " 0.0664728314614474,\n",
       " 0.0664728314607547,\n",
       " 0.06647283146061171,\n",
       " 0.06647283145999047,\n",
       " 0.06647283145936923]"
      ]
     },
     "execution_count": 45,
     "metadata": {},
     "output_type": "execute_result"
    }
   ],
   "source": [
    "rat_"
   ]
  },
  {
   "cell_type": "markdown",
   "metadata": {},
   "source": [
    "### Solving the linear system"
   ]
  },
  {
   "cell_type": "code",
   "execution_count": 46,
   "metadata": {},
   "outputs": [
    {
     "data": {
      "text/plain": [
       "[[-0.5, -0.15000000000000002, 0.65],\n",
       " [-0.5333333333333333, -0.1166666666666667, 0.65],\n",
       " [-0.5666666666666667, -0.08333333333333337, 0.65],\n",
       " [-0.6, -0.050000000000000044, 0.65],\n",
       " [-0.6333333333333333, -0.01666666666666672, 0.65],\n",
       " [-0.6666666666666667, 0.01666666666666672, 0.65],\n",
       " [-0.7000000000000001, 0.050000000000000044, 0.65],\n",
       " [-0.7333333333333334, 0.08333333333333337, 0.65],\n",
       " [-0.7666666666666667, 0.1166666666666667, 0.65],\n",
       " [-0.8, 0.15000000000000002, 0.65]]"
      ]
     },
     "execution_count": 46,
     "metadata": {},
     "output_type": "execute_result"
    }
   ],
   "source": [
    "r_list"
   ]
  },
  {
   "cell_type": "code",
   "execution_count": 69,
   "metadata": {},
   "outputs": [
    {
     "name": "stdout",
     "output_type": "stream",
     "text": [
      "-------\n",
      "{(1, 2): 6.021915831585139e-12, (1, 3): 2.1611747851205707, (2, 1): 7.483101391160228e-12, (2, 3): 6.5614642882983895e-12, (3, 1): 4.901318536322973e-12, (3, 2): 0.96704871058774}\n",
      "[8.26714657e-13 2.94412607e-01 1.19039465e-12 2.05587393e-01\n",
      " 1.63488678e-12 3.94412607e-01]\n",
      "{(1, 2): 0.9670487105730883, (2, 1): 2.9720738328046055e-12, (3, 1): 3.2454937029314326e-12, (1, 3): 1.1941260745464073, (2, 3): 3.496422658909642e-12, (3, 2): 7.177433426864002e-12}\n",
      "-------\n",
      "{(1, 2): 5.092530655289927e-12, (1, 3): 2.1474450811942276, (2, 1): 5.8339685906838695e-12, (2, 3): 5.574704966629552e-12, (3, 1): 4.458720814273481e-12, (3, 2): 0.8846704871280554}\n",
      "[6.88631357e-13 7.47110793e-01 9.41697384e-13 2.52889207e-01\n",
      " 1.41053133e-12 4.97110793e-01]\n",
      "{(1, 2): 0.8846704871129271, (2, 1): 2.408290645188292e-12, (3, 1): 2.788497808192322e-12, (1, 3): 1.262774594080546, (2, 3): 2.89998516496204e-12, (3, 2): 6.407576199261997e-12}\n",
      "-------\n",
      "{(1, 2): 2.4437107382729933e-14, (1, 3): 2.1319245463211036, (2, 1): 3.836583760963817e-14, (2, 3): 2.5510847052463102e-14, (3, 1): 8.15072915161741e-15, (3, 2): 0.7915472779251819}\n",
      "[1.72546622e-15 6.32043935e-02 2.02658603e-15 1.86795606e-01\n",
      " 7.18452884e-15 6.13204394e-01]\n",
      "{(1, 2): 0.7915472779251249, (2, 1): 1.2482754903890517e-14, (3, 1): 1.069297554142397e-14, (1, 3): 1.3403772683959698, (2, 3): 1.6067032411477553e-14, (3, 2): 2.6995009757606004e-14}\n"
     ]
    }
   ],
   "source": [
    "y_vec = [.6, .75, .8]\n",
    "r_list = []\n",
    "Tr_list = []\n",
    "x_vec = [-.5, -1, -.25]\n",
    "for i in range(3):\n",
    "    x = x_vec[i]\n",
    "    y = y_vec[i]\n",
    "    r_new = [x, -x-y, y]\n",
    "    r_list.append(r_new)\n",
    "    r.value = r_new\n",
    "\n",
    "    prob.solve(solver = cp.GUROBI)\n",
    "    print(\"-------\")\n",
    "    print(get_edge_flow(f_p, map_edges))\n",
    "    print(f_r.value)\n",
    "\n",
    "    print(get_d_values(inv_edges, d_var))\n",
    "\n",
    "    Tr_list.append(get_new_r(f_p, map_edges, nodes))"
   ]
  },
  {
   "cell_type": "code",
   "execution_count": 48,
   "metadata": {},
   "outputs": [],
   "source": [
    "b = np.zeros(4)\n",
    "A = np.zeros((4,4))\n",
    "for i in [0, 1]:\n",
    "    dTr = np.array(Tr_list[i]) - np.array(Tr_list[i+1])\n",
    "    dr = np.array(r_list[i]) - np.array(r_list[i+1])\n",
    "    s = i*2\n",
    "    drA = dr[:2]\n",
    "    A[s, :2] = drA\n",
    "    A[s+1, 2:] = drA\n",
    "    b[s:s+2] = dTr[:2]"
   ]
  },
  {
   "cell_type": "code",
   "execution_count": 49,
   "metadata": {},
   "outputs": [
    {
     "data": {
      "text/plain": [
       "array([[ 0.5 , -0.35,  0.  ,  0.  ],\n",
       "       [ 0.  ,  0.  ,  0.5 , -0.35],\n",
       "       [-0.75,  0.8 ,  0.  ,  0.  ],\n",
       "       [ 0.  ,  0.  , -0.75,  0.8 ]])"
      ]
     },
     "execution_count": 49,
     "metadata": {},
     "output_type": "execute_result"
    }
   ],
   "source": [
    "A"
   ]
  },
  {
   "cell_type": "code",
   "execution_count": 50,
   "metadata": {},
   "outputs": [],
   "source": [
    "sol = np.linalg.solve(A, b)"
   ]
  },
  {
   "cell_type": "code",
   "execution_count": 51,
   "metadata": {},
   "outputs": [],
   "source": [
    "A_sol = [[sol[0], sol[1]], [sol[2], sol[3]]]"
   ]
  },
  {
   "cell_type": "code",
   "execution_count": 52,
   "metadata": {},
   "outputs": [
    {
     "data": {
      "text/plain": [
       "array([[-0.1194, -0.1313],\n",
       "       [ 0.7163,  0.788 ]])"
      ]
     },
     "execution_count": 52,
     "metadata": {},
     "output_type": "execute_result"
    }
   ],
   "source": [
    "np.around(A_sol, 4)\n"
   ]
  },
  {
   "cell_type": "code",
   "execution_count": 53,
   "metadata": {},
   "outputs": [],
   "source": [
    "u, s, vh = np.linalg.svd(A_sol)"
   ]
  },
  {
   "cell_type": "code",
   "execution_count": 54,
   "metadata": {},
   "outputs": [
    {
     "data": {
      "text/plain": [
       "array([[-0.16439899,  0.98639392],\n",
       "       [ 0.98639392,  0.16439899]])"
      ]
     },
     "execution_count": 54,
     "metadata": {},
     "output_type": "execute_result"
    }
   ],
   "source": [
    "u"
   ]
  },
  {
   "cell_type": "code",
   "execution_count": 55,
   "metadata": {},
   "outputs": [
    {
     "data": {
      "text/plain": [
       "array([1.07959367e+00, 8.71072207e-12])"
      ]
     },
     "execution_count": 55,
     "metadata": {},
     "output_type": "execute_result"
    }
   ],
   "source": [
    "s"
   ]
  },
  {
   "cell_type": "code",
   "execution_count": 56,
   "metadata": {},
   "outputs": [
    {
     "data": {
      "text/plain": [
       "array([[ 0.67267279,  0.73994007],\n",
       "       [-0.73994007,  0.67267279]])"
      ]
     },
     "execution_count": 56,
     "metadata": {},
     "output_type": "execute_result"
    }
   ],
   "source": [
    "vh"
   ]
  },
  {
   "cell_type": "markdown",
   "metadata": {},
   "source": [
    "We see that the sv is >1. Also, we don't match with the one from matlab\n",
    " -0.0809   -0.0890\n",
    "    0.7550    0.8305\n",
    "    \n",
    "Questions\n",
    "1. why don't we match with that from Matlab\n",
    "2. how are we restricted actually in how we explore the space? (there is an implicit constraint on the rebalancing vector)"
   ]
  },
  {
   "cell_type": "code",
   "execution_count": 64,
   "metadata": {},
   "outputs": [
    {
     "data": {
      "text/plain": [
       "array([-0.16439899,  0.98639392])"
      ]
     },
     "execution_count": 64,
     "metadata": {},
     "output_type": "execute_result"
    }
   ],
   "source": [
    "A_sol@vh[0,:]/s[0]"
   ]
  },
  {
   "cell_type": "code",
   "execution_count": 65,
   "metadata": {},
   "outputs": [
    {
     "data": {
      "text/plain": [
       "1.0795936716292827"
      ]
     },
     "execution_count": 65,
     "metadata": {},
     "output_type": "execute_result"
    }
   ],
   "source": [
    "np.linalg.norm(A_sol@vh[0,:])"
   ]
  },
  {
   "cell_type": "code",
   "execution_count": 66,
   "metadata": {},
   "outputs": [
    {
     "data": {
      "text/plain": [
       "array([0.67267279, 0.73994007])"
      ]
     },
     "execution_count": 66,
     "metadata": {},
     "output_type": "execute_result"
    }
   ],
   "source": [
    "vh[0,:]"
   ]
  },
  {
   "cell_type": "code",
   "execution_count": 96,
   "metadata": {},
   "outputs": [
    {
     "data": {
      "text/plain": [
       "[[-0.11938872977400726, -0.13132760274806363],\n",
       " [0.7163323780741186, 0.7879656159402322]]"
      ]
     },
     "execution_count": 96,
     "metadata": {},
     "output_type": "execute_result"
    }
   ],
   "source": [
    "A_sol"
   ]
  },
  {
   "cell_type": "markdown",
   "metadata": {},
   "source": [
    "2->3 dim mapping"
   ]
  },
  {
   "cell_type": "code",
   "execution_count": 97,
   "metadata": {},
   "outputs": [],
   "source": [
    "A_p = np.array([[1,0],[0,1],[-1,-1]])"
   ]
  },
  {
   "cell_type": "code",
   "execution_count": 100,
   "metadata": {},
   "outputs": [],
   "source": [
    "A_fin = A_p@A_sol"
   ]
  },
  {
   "cell_type": "code",
   "execution_count": 101,
   "metadata": {},
   "outputs": [],
   "source": [
    "u_, s_, vh_ = np.linalg.svd(A_fin)"
   ]
  },
  {
   "cell_type": "code",
   "execution_count": 102,
   "metadata": {},
   "outputs": [
    {
     "data": {
      "text/plain": [
       "array([1.39751125e+00, 1.16551703e-11])"
      ]
     },
     "execution_count": 102,
     "metadata": {},
     "output_type": "execute_result"
    }
   ],
   "source": [
    "s_"
   ]
  },
  {
   "cell_type": "code",
   "execution_count": 103,
   "metadata": {},
   "outputs": [
    {
     "data": {
      "text/plain": [
       "array([[-0.12700013, -0.80656107,  0.57734756],\n",
       "       [ 0.76200076,  0.29329229,  0.57735125],\n",
       "       [-0.63500063,  0.51326296,  0.57735199]])"
      ]
     },
     "execution_count": 103,
     "metadata": {},
     "output_type": "execute_result"
    }
   ],
   "source": [
    "u_"
   ]
  },
  {
   "cell_type": "code",
   "execution_count": 104,
   "metadata": {},
   "outputs": [
    {
     "data": {
      "text/plain": [
       "array([[ 0.67267279,  0.73994007],\n",
       "       [ 0.73994007, -0.67267279]])"
      ]
     },
     "execution_count": 104,
     "metadata": {},
     "output_type": "execute_result"
    }
   ],
   "source": [
    "vh_"
   ]
  },
  {
   "cell_type": "markdown",
   "metadata": {},
   "source": [
    "## Trying to \"trick\" the system and create a counter example. "
   ]
  },
  {
   "cell_type": "code",
   "execution_count": 70,
   "metadata": {},
   "outputs": [],
   "source": [
    "r1 = r_list[0]"
   ]
  },
  {
   "cell_type": "code",
   "execution_count": 72,
   "metadata": {},
   "outputs": [],
   "source": [
    "dv = [vh[0,0], vh[0,1], -(vh[0,0]+vh[0,1])]"
   ]
  },
  {
   "cell_type": "code",
   "execution_count": 74,
   "metadata": {},
   "outputs": [],
   "source": [
    "alpha = 0.01"
   ]
  },
  {
   "cell_type": "code",
   "execution_count": 76,
   "metadata": {},
   "outputs": [],
   "source": [
    "r2 = np.array(r1)-alpha*np.array(dv)"
   ]
  },
  {
   "cell_type": "code",
   "execution_count": 77,
   "metadata": {},
   "outputs": [
    {
     "data": {
      "text/plain": [
       "array([-0.50672673, -0.1073994 ,  0.61412613])"
      ]
     },
     "execution_count": 77,
     "metadata": {},
     "output_type": "execute_result"
    }
   ],
   "source": [
    "r2"
   ]
  },
  {
   "cell_type": "code",
   "execution_count": 78,
   "metadata": {},
   "outputs": [
    {
     "name": "stdout",
     "output_type": "stream",
     "text": [
      "-------\n",
      "{(1, 2): 6.021915831585139e-12, (1, 3): 2.1611747851205707, (2, 1): 7.483101391160228e-12, (2, 3): 6.5614642882983895e-12, (3, 1): 4.901318536322973e-12, (3, 2): 0.96704871058774}\n",
      "[8.26714657e-13 2.94412607e-01 1.19039465e-12 2.05587393e-01\n",
      " 1.63488678e-12 3.94412607e-01]\n",
      "{(1, 2): 0.9670487105730883, (2, 1): 2.9720738328046055e-12, (3, 1): 3.2454937029314326e-12, (1, 3): 1.1941260745464073, (2, 3): 3.496422658909642e-12, (3, 2): 7.177433426864002e-12}\n",
      "-------\n",
      "{(1, 2): 5.872058525899914e-12, (1, 3): 2.159399944055155, (2, 1): 7.272116003311073e-12, (2, 3): 6.38429243438925e-12, (3, 1): 4.754404662680903e-12, (3, 2): 0.9563996642146347}\n",
      "[8.07069240e-13 3.00289018e-01 1.15869050e-12 2.06437710e-01\n",
      " 1.59983225e-12 4.07688419e-01]\n",
      "{(1, 2): 0.9563996642003639, (2, 1): 2.8914687812344745e-12, (3, 1): 3.1535652229272364e-12, (1, 3): 1.203000279853714, (2, 3): 3.4075574628046022e-12, (3, 2): 6.9998674299871804e-12}\n"
     ]
    }
   ],
   "source": [
    "Tr_ = []\n",
    "for r_new in [r1, r2]:\n",
    "    r.value = r_new\n",
    "\n",
    "    prob.solve(solver = cp.GUROBI)\n",
    "    print(\"-------\")\n",
    "    print(get_edge_flow(f_p, map_edges))\n",
    "    print(f_r.value)\n",
    "\n",
    "    print(get_d_values(inv_edges, d_var))\n",
    "\n",
    "    Tr_.append(get_new_r(f_p, map_edges, nodes))"
   ]
  },
  {
   "cell_type": "code",
   "execution_count": 89,
   "metadata": {},
   "outputs": [],
   "source": [
    "dr = np.array(r1)-np.array(r2)\n",
    "dT = np.array(Tr_[0]) - np.array(Tr_[1])"
   ]
  },
  {
   "cell_type": "code",
   "execution_count": 95,
   "metadata": {},
   "outputs": [
    {
     "data": {
      "text/plain": [
       "1.0795936710550806"
      ]
     },
     "execution_count": 95,
     "metadata": {},
     "output_type": "execute_result"
    }
   ],
   "source": [
    "np.linalg.norm(dT[:2])/np.linalg.norm(dr[:2])"
   ]
  },
  {
   "cell_type": "code",
   "execution_count": 91,
   "metadata": {},
   "outputs": [
    {
     "data": {
      "text/plain": [
       "array([-0.00177484,  0.01064905])"
      ]
     },
     "execution_count": 91,
     "metadata": {},
     "output_type": "execute_result"
    }
   ],
   "source": [
    "A_sol@dr[:2]"
   ]
  },
  {
   "cell_type": "code",
   "execution_count": 93,
   "metadata": {},
   "outputs": [
    {
     "data": {
      "text/plain": [
       "array([-0.00177484,  0.01064905])"
      ]
     },
     "execution_count": 93,
     "metadata": {},
     "output_type": "execute_result"
    }
   ],
   "source": [
    "dT[:2]"
   ]
  },
  {
   "cell_type": "markdown",
   "metadata": {},
   "source": [
    "We see both coincide. "
   ]
  }
 ],
 "metadata": {
  "kernelspec": {
   "display_name": "Python [conda env:py37] *",
   "language": "python",
   "name": "conda-env-py37-py"
  },
  "language_info": {
   "codemirror_mode": {
    "name": "ipython",
    "version": 3
   },
   "file_extension": ".py",
   "mimetype": "text/x-python",
   "name": "python",
   "nbconvert_exporter": "python",
   "pygments_lexer": "ipython3",
   "version": "3.7.7"
  },
  "toc": {
   "base_numbering": 1,
   "nav_menu": {},
   "number_sections": true,
   "sideBar": true,
   "skip_h1_title": false,
   "title_cell": "Table of Contents",
   "title_sidebar": "Contents",
   "toc_cell": true,
   "toc_position": {
    "height": "calc(100% - 180px)",
    "left": "10px",
    "top": "150px",
    "width": "165px"
   },
   "toc_section_display": true,
   "toc_window_display": true
  },
  "varInspector": {
   "cols": {
    "lenName": 16,
    "lenType": 16,
    "lenVar": 40
   },
   "kernels_config": {
    "python": {
     "delete_cmd_postfix": "",
     "delete_cmd_prefix": "del ",
     "library": "var_list.py",
     "varRefreshCmd": "print(var_dic_list())"
    },
    "r": {
     "delete_cmd_postfix": ") ",
     "delete_cmd_prefix": "rm(",
     "library": "var_list.r",
     "varRefreshCmd": "cat(var_dic_list()) "
    }
   },
   "types_to_exclude": [
    "module",
    "function",
    "builtin_function_or_method",
    "instance",
    "_Feature"
   ],
   "window_display": false
  }
 },
 "nbformat": 4,
 "nbformat_minor": 2
}
