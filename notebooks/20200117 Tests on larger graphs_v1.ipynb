{
 "cells": [
  {
   "cell_type": "markdown",
   "metadata": {
    "toc": true
   },
   "source": [
    "<h1>Table of Contents<span class=\"tocSkip\"></span></h1>\n",
    "<div class=\"toc\"><ul class=\"toc-item\"><li><span><a href=\"#Description\" data-toc-modified-id=\"Description-1\"><span class=\"toc-item-num\">1&nbsp;&nbsp;</span>Description</a></span></li><li><span><a href=\"#Load\" data-toc-modified-id=\"Load-2\"><span class=\"toc-item-num\">2&nbsp;&nbsp;</span>Load</a></span></li><li><span><a href=\"#Scenario-1\" data-toc-modified-id=\"Scenario-1-3\"><span class=\"toc-item-num\">3&nbsp;&nbsp;</span>Scenario 1</a></span><ul class=\"toc-item\"><li><span><a href=\"#Solving-with-ICU\" data-toc-modified-id=\"Solving-with-ICU-3.1\"><span class=\"toc-item-num\">3.1&nbsp;&nbsp;</span>Solving with ICU</a></span></li><li><span><a href=\"#Solving-with-Outer-Loop\" data-toc-modified-id=\"Solving-with-Outer-Loop-3.2\"><span class=\"toc-item-num\">3.2&nbsp;&nbsp;</span>Solving with Outer Loop</a></span></li></ul></li></ul></div>"
   ]
  },
  {
   "cell_type": "markdown",
   "metadata": {},
   "source": [
    "# Description"
   ]
  },
  {
   "cell_type": "markdown",
   "metadata": {},
   "source": [
    "This notebook aims at testing the two main algorithms on larger graphs in order to test for the scalability of the approach"
   ]
  },
  {
   "cell_type": "markdown",
   "metadata": {},
   "source": [
    "# Load"
   ]
  },
  {
   "cell_type": "code",
   "execution_count": 1,
   "metadata": {},
   "outputs": [],
   "source": [
    "%load_ext autoreload\n",
    "%autoreload 2\n",
    "import networkx as nx\n",
    "import matplotlib.pyplot as plt\n",
    "import numpy as np\n",
    "\n",
    "from graph import expand_graph\n",
    "\n",
    "import pandas as pd\n",
    "import os\n",
    "\n",
    "from graph import construct_graph\n",
    "\n",
    "from graph import get_edge_list, get_dummy_nodes"
   ]
  },
  {
   "cell_type": "code",
   "execution_count": 53,
   "metadata": {},
   "outputs": [],
   "source": [
    "from FW_icu import modified_FW"
   ]
  },
  {
   "cell_type": "code",
   "execution_count": 54,
   "metadata": {},
   "outputs": [],
   "source": [
    "from FW_OuterUpdate import solve"
   ]
  },
  {
   "cell_type": "markdown",
   "metadata": {},
   "source": [
    "# Scenario 1"
   ]
  },
  {
   "cell_type": "code",
   "execution_count": 56,
   "metadata": {},
   "outputs": [],
   "source": [
    "path='Data/2Nodes/'"
   ]
  },
  {
   "cell_type": "code",
   "execution_count": 65,
   "metadata": {},
   "outputs": [],
   "source": [
    "G_0, OD = construct_graph(path)"
   ]
  },
  {
   "cell_type": "code",
   "execution_count": 60,
   "metadata": {},
   "outputs": [
    {
     "data": {
      "text/plain": [
       "{('1', '1_p'): 10, ('2', '2_p'): 10}"
      ]
     },
     "execution_count": 60,
     "metadata": {},
     "output_type": "execute_result"
    }
   ],
   "source": [
    "OD"
   ]
  },
  {
   "cell_type": "code",
   "execution_count": 61,
   "metadata": {},
   "outputs": [],
   "source": [
    "edge_list=get_edge_list(G)\n",
    "dummy_nodes=get_dummy_nodes(G)"
   ]
  },
  {
   "cell_type": "markdown",
   "metadata": {},
   "source": [
    "## Solving with ICU"
   ]
  },
  {
   "cell_type": "code",
   "execution_count": 66,
   "metadata": {},
   "outputs": [],
   "source": [
    "G_icu,y_list,opt_res,OD_list=modified_FW(G_0.copy(),OD.copy(),edge_list,dummy_nodes,maxIter=400,\n",
    "                         step='fixed',rebalancer_smoothing=True, ri_smoothing=False,evolving_bounds=False)"
   ]
  },
  {
   "cell_type": "markdown",
   "metadata": {},
   "source": [
    "## Solving with Outer Loop"
   ]
  },
  {
   "cell_type": "code",
   "execution_count": 67,
   "metadata": {},
   "outputs": [
    {
     "name": "stdout",
     "output_type": "stream",
     "text": [
      "##########################################\n",
      "ITERATION #:  1\n",
      "CURRENT RI_k\n",
      "{'1': 0, '1_p': 0, '2': 0, '2_p': 0, 'R': 0}\n",
      "CURRENT OD: {('1', '1_p'): 10, ('2', '2_p'): 10, ('1', 'R'): 0, ('2', 'R'): 0}\n",
      "Cost at the beginning of the iteration:\n",
      "('1', '2')  :  36.0\n",
      "('1', 'R')  :  10000000000000000000000\n",
      "('1', '2_p')  :  61.0\n",
      "('1', '1_p')  :  75.0\n",
      "('2', '1')  :  36.0\n",
      "('2', 'R')  :  10000000000000000000000\n",
      "('2', '1_p')  :  71.0\n",
      "('2', '2_p')  :  75.0\n",
      "Flows at the beginning of the iteration:\n",
      "('1', '2')  :  0\n",
      "('1', 'R')  :  0\n",
      "('1', '2_p')  :  0\n",
      "('1', '1_p')  :  10\n",
      "('2', '1')  :  0\n",
      "('2', 'R')  :  0\n",
      "('2', '1_p')  :  0\n",
      "('2', '2_p')  :  10\n"
     ]
    }
   ],
   "source": [
    "#tol: difference in ri between two iterations\n",
    "#FW_tol: value of the certificate\n",
    "\n",
    "G_FW,ri_FW = solve(G_0.copy(),OD.copy(),edge_list,dummy_nodes,tol=10**-4, FW_tol=10**-4)"
   ]
  },
  {
   "cell_type": "code",
   "execution_count": 73,
   "metadata": {},
   "outputs": [],
   "source": [
    "from compare_outputs import compare_final\n",
    "from helpers_icu import print_final_flows, print_final_cost"
   ]
  },
  {
   "cell_type": "code",
   "execution_count": 70,
   "metadata": {},
   "outputs": [
    {
     "name": "stdout",
     "output_type": "stream",
     "text": [
      "('1', '2')  :  0.0 %\n",
      "('1', 'R')  :  0.0 %\n",
      "('1', '2_p')  :  0.0 %\n",
      "('1', '1_p')  :  0.0 %\n",
      "('2', '1')  :  0.0 %\n",
      "('2', 'R')  :  0.0 %\n",
      "('2', '1_p')  :  0.0 %\n",
      "('2', '2_p')  :  0.0 %\n"
     ]
    }
   ],
   "source": [
    "compare_final(G_icu,G_FW,'flow')"
   ]
  },
  {
   "cell_type": "code",
   "execution_count": 71,
   "metadata": {},
   "outputs": [
    {
     "name": "stdout",
     "output_type": "stream",
     "text": [
      "('1', '2')  :  0.0 %\n",
      "('1', 'R')  :  0.0 %\n",
      "('1', '2_p')  :  0.0 %\n",
      "('1', '1_p')  :  0.0 %\n",
      "('2', '1')  :  0.0 %\n",
      "('2', 'R')  :  0.0 %\n",
      "('2', '1_p')  :  0.0 %\n",
      "('2', '2_p')  :  0.0 %\n"
     ]
    }
   ],
   "source": [
    "compare_final(G_icu,G_FW,'cost')"
   ]
  },
  {
   "cell_type": "code",
   "execution_count": 74,
   "metadata": {},
   "outputs": [
    {
     "name": "stdout",
     "output_type": "stream",
     "text": [
      "('1', '2')  :  0.0\n",
      "('1', 'R')  :  0.0\n",
      "('1', '2_p')  :  0.0\n",
      "('1', '1_p')  :  9.99999999844528\n",
      "('2', '1')  :  0.0\n",
      "('2', 'R')  :  0.0\n",
      "('2', '1_p')  :  0.0\n",
      "('2', '2_p')  :  9.99999999844528\n"
     ]
    }
   ],
   "source": [
    "print_final_flows(G_icu)"
   ]
  },
  {
   "cell_type": "code",
   "execution_count": 75,
   "metadata": {},
   "outputs": [
    {
     "name": "stdout",
     "output_type": "stream",
     "text": [
      "('1', '2')  :  0.0\n",
      "('1', 'R')  :  0.0\n",
      "('1', '2_p')  :  0.0\n",
      "('1', '1_p')  :  10.0\n",
      "('2', '1')  :  0.0\n",
      "('2', 'R')  :  0.0\n",
      "('2', '1_p')  :  0.0\n",
      "('2', '2_p')  :  10.0\n"
     ]
    }
   ],
   "source": [
    "print_final_flows(G_FW)"
   ]
  },
  {
   "cell_type": "code",
   "execution_count": 77,
   "metadata": {},
   "outputs": [
    {
     "name": "stdout",
     "output_type": "stream",
     "text": [
      "('1', '2')  :  36.0\n",
      "('1', 'R')  :  10000000000000000000000\n",
      "('1', '2_p')  :  61.0\n",
      "('1', '1_p')  :  75.0\n",
      "('2', '1')  :  36.0\n",
      "('2', 'R')  :  10000000000000000000000\n",
      "('2', '1_p')  :  71.0\n",
      "('2', '2_p')  :  75.0\n"
     ]
    }
   ],
   "source": [
    "print_final_cost(G_icu)"
   ]
  },
  {
   "cell_type": "code",
   "execution_count": 78,
   "metadata": {},
   "outputs": [
    {
     "name": "stdout",
     "output_type": "stream",
     "text": [
      "('1', '2')  :  36.0\n",
      "('1', 'R')  :  10000000000000000000000\n",
      "('1', '2_p')  :  61.0\n",
      "('1', '1_p')  :  75.0\n",
      "('2', '1')  :  36.0\n",
      "('2', 'R')  :  10000000000000000000000\n",
      "('2', '1_p')  :  71.0\n",
      "('2', '2_p')  :  75.0\n"
     ]
    }
   ],
   "source": [
    "print_final_cost(G_FW)"
   ]
  }
 ],
 "metadata": {
  "kernelspec": {
   "display_name": "Python 3",
   "language": "python",
   "name": "python3"
  },
  "language_info": {
   "codemirror_mode": {
    "name": "ipython",
    "version": 3
   },
   "file_extension": ".py",
   "mimetype": "text/x-python",
   "name": "python",
   "nbconvert_exporter": "python",
   "pygments_lexer": "ipython3",
   "version": "3.6.8"
  },
  "toc": {
   "base_numbering": 1,
   "nav_menu": {},
   "number_sections": true,
   "sideBar": true,
   "skip_h1_title": false,
   "title_cell": "Table of Contents",
   "title_sidebar": "Contents",
   "toc_cell": true,
   "toc_position": {
    "height": "calc(100% - 180px)",
    "left": "10px",
    "top": "150px",
    "width": "165px"
   },
   "toc_section_display": true,
   "toc_window_display": true
  },
  "varInspector": {
   "cols": {
    "lenName": 16,
    "lenType": 16,
    "lenVar": 40
   },
   "kernels_config": {
    "python": {
     "delete_cmd_postfix": "",
     "delete_cmd_prefix": "del ",
     "library": "var_list.py",
     "varRefreshCmd": "print(var_dic_list())"
    },
    "r": {
     "delete_cmd_postfix": ") ",
     "delete_cmd_prefix": "rm(",
     "library": "var_list.r",
     "varRefreshCmd": "cat(var_dic_list()) "
    }
   },
   "types_to_exclude": [
    "module",
    "function",
    "builtin_function_or_method",
    "instance",
    "_Feature"
   ],
   "window_display": false
  }
 },
 "nbformat": 4,
 "nbformat_minor": 2
}
