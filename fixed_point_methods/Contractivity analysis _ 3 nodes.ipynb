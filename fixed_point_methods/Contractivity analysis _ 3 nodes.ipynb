{
 "cells": [
  {
   "cell_type": "markdown",
   "metadata": {
    "toc": true
   },
   "source": [
    "<h1>Table of Contents<span class=\"tocSkip\"></span></h1>\n",
    "<div class=\"toc\"><ul class=\"toc-item\"><li><span><a href=\"#Description\" data-toc-modified-id=\"Description-1\"><span class=\"toc-item-num\">1&nbsp;&nbsp;</span>Description</a></span></li><li><span><a href=\"#Some-notes\" data-toc-modified-id=\"Some-notes-2\"><span class=\"toc-item-num\">2&nbsp;&nbsp;</span>Some notes</a></span><ul class=\"toc-item\"><li><span><a href=\"#Cost-functions\" data-toc-modified-id=\"Cost-functions-2.1\"><span class=\"toc-item-num\">2.1&nbsp;&nbsp;</span>Cost functions</a></span></li></ul></li><li><span><a href=\"#Load\" data-toc-modified-id=\"Load-3\"><span class=\"toc-item-num\">3&nbsp;&nbsp;</span>Load</a></span><ul class=\"toc-item\"><li><span><a href=\"#Viz-costs\" data-toc-modified-id=\"Viz-costs-3.1\"><span class=\"toc-item-num\">3.1&nbsp;&nbsp;</span>Viz costs</a></span></li><li><span><a href=\"#Solving-just-one-instance-to-check-if-it-works-properly\" data-toc-modified-id=\"Solving-just-one-instance-to-check-if-it-works-properly-3.2\"><span class=\"toc-item-num\">3.2&nbsp;&nbsp;</span>Solving just one instance to check if it works properly</a></span></li><li><span><a href=\"#Sampling-solutions\" data-toc-modified-id=\"Sampling-solutions-3.3\"><span class=\"toc-item-num\">3.3&nbsp;&nbsp;</span>Sampling solutions</a></span></li><li><span><a href=\"#Run-complete-algorithm\" data-toc-modified-id=\"Run-complete-algorithm-3.4\"><span class=\"toc-item-num\">3.4&nbsp;&nbsp;</span>Run complete algorithm</a></span></li></ul></li></ul></div>"
   ]
  },
  {
   "cell_type": "code",
   "execution_count": null,
   "metadata": {},
   "outputs": [],
   "source": [
    "from matplotlib import rc\n",
    "rc('text', usetex=True)\n",
    "rc('font', size = 12)\n",
    "rc('xtick', labelsize = 12)\n",
    "rc('ytick', labelsize = 12)\n",
    "rc('figure', figsize = (8, 4))"
   ]
  },
  {
   "cell_type": "code",
   "execution_count": null,
   "metadata": {},
   "outputs": [],
   "source": [
    "%load_ext autoreload\n",
    "%autoreload 2\n",
    "\n",
    "import matplotlib.pyplot as plt\n",
    "from amod_ed.contractivity_v3 import viz_costs, _construct_problem\n",
    "from amod_ed.contractivity_v3 import sample_solutions, run_algorithm\n",
    "import cvxpy as cp\n",
    "import networkx as nx\n",
    "\n",
    "import pandas as pd\n",
    "\n",
    "from amod_ed.contractivity_v3 import plot_results_run\n",
    "\n",
    "from amod_ed.contractivity_v3 import get_new_r, get_edge_flow"
   ]
  },
  {
   "cell_type": "markdown",
   "metadata": {},
   "source": [
    "# Description"
   ]
  },
  {
   "cell_type": "markdown",
   "metadata": {},
   "source": [
    "This notebook implements a more general framework, to be essentially tested on a 3-node case. "
   ]
  },
  {
   "cell_type": "markdown",
   "metadata": {},
   "source": [
    "TODO: \n",
    "- Check for failures\n",
    "- Test with different scenarios (i.e. parameters of the network)"
   ]
  },
  {
   "cell_type": "markdown",
   "metadata": {},
   "source": [
    "# Some notes"
   ]
  },
  {
   "cell_type": "markdown",
   "metadata": {},
   "source": [
    "## Cost functions"
   ]
  },
  {
   "cell_type": "markdown",
   "metadata": {},
   "source": [
    "In the different functions of the code, the cost functions and inverse demand functions are defined based on BPR functions (out of simplicity). "
   ]
  },
  {
   "cell_type": "markdown",
   "metadata": {},
   "source": [
    "We take the following notation: "
   ]
  },
  {
   "cell_type": "markdown",
   "metadata": {},
   "source": [
    "$$\n",
    "BPR(x,\\kappa, \\phi) = \\phi(1+\\alpha (x/\\kappa)^\\beta),\n",
    "$$\n",
    "where $\\alpha$ and $\\beta$ are parameters. "
   ]
  },
  {
   "cell_type": "markdown",
   "metadata": {},
   "source": [
    "The edge costs are actually BPR functions. As for the inverse demand functions, we define them as\n",
    "$$\n",
    "D^{-1} = - BPR() + S,\n",
    "$$\n",
    "where $S\\in\\mathbb{R}^+$ is the inverse demand shift, ensuring that $D^{-1}$ is larger than zero over a given subset of $\\mathbb{R}^+$."
   ]
  },
  {
   "cell_type": "markdown",
   "metadata": {},
   "source": [
    "# Load"
   ]
  },
  {
   "cell_type": "markdown",
   "metadata": {},
   "source": [
    "The characteristics of the graph are loaded from Excel files. "
   ]
  },
  {
   "cell_type": "code",
   "execution_count": null,
   "metadata": {},
   "outputs": [],
   "source": [
    "edges = pd.read_excel('cost_edges_3.xlsx')\n",
    "inv_edges = pd.read_excel('inv_demand_3.xlsx')"
   ]
  },
  {
   "cell_type": "code",
   "execution_count": null,
   "metadata": {},
   "outputs": [],
   "source": [
    "edges"
   ]
  },
  {
   "cell_type": "code",
   "execution_count": null,
   "metadata": {},
   "outputs": [],
   "source": [
    "inv_edges"
   ]
  },
  {
   "cell_type": "markdown",
   "metadata": {},
   "source": [
    "## Viz costs"
   ]
  },
  {
   "cell_type": "markdown",
   "metadata": {},
   "source": [
    "Visualize the costs for each OD pair specified in the Excels. "
   ]
  },
  {
   "cell_type": "code",
   "execution_count": null,
   "metadata": {
    "scrolled": false
   },
   "outputs": [],
   "source": [
    "viz_costs(edges, inv_edges)"
   ]
  },
  {
   "cell_type": "markdown",
   "metadata": {},
   "source": [
    "## Solving just one instance to check if it works properly"
   ]
  },
  {
   "cell_type": "markdown",
   "metadata": {},
   "source": [
    "The below builds the optimization problem. "
   ]
  },
  {
   "cell_type": "code",
   "execution_count": null,
   "metadata": {},
   "outputs": [],
   "source": [
    "\"\"\"\n",
    "Returns\n",
    "-------\n",
    "f_p: cvxpy.Variable\n",
    "    The flow for each commodity on each edge\n",
    "f_r: cvxpy.Variable\n",
    "    The rebalancing flow on each edge\n",
    "r: cvxpy.Parameter\n",
    "    The rebalancing guess for each node\n",
    "d_var: cvxpy.Variable\n",
    "    The demand for each each\n",
    "prob: cvxpy.Problem\n",
    "    The optimization problem\n",
    "map_comps: dict\n",
    "    A map linking components of f_p to the edges and inv edges\n",
    "map_edges: dict\n",
    "    A map linking edges to components of f_p\n",
    "costs_dict: dict\n",
    "    Dict containing the cost for each edge\n",
    "inv_demand_dict: dict\n",
    "    The inverse demand cost for each od pair\n",
    "G: nx.DiGraph\n",
    "    Graph representing the network\n",
    "nodes: list\n",
    "    list of nodes\n",
    "\"\"\"\n",
    "f_p, f_r, r, d_var, prob, map_comps, map_edges,\\\n",
    " costs_dict, inv_d_dict, G, nodes = _construct_problem(edges, inv_edges)"
   ]
  },
  {
   "cell_type": "markdown",
   "metadata": {},
   "source": [
    "Specify a value of the rebalancing parameter"
   ]
  },
  {
   "cell_type": "code",
   "execution_count": null,
   "metadata": {},
   "outputs": [],
   "source": [
    "r_new = [0, 0, 0]\n",
    "r.value = r_new"
   ]
  },
  {
   "cell_type": "markdown",
   "metadata": {},
   "source": [
    "You can then solve the problem. "
   ]
  },
  {
   "cell_type": "code",
   "execution_count": null,
   "metadata": {},
   "outputs": [],
   "source": [
    "prob.solve(solver = cp.GUROBI)"
   ]
  },
  {
   "cell_type": "markdown",
   "metadata": {},
   "source": [
    "Check the status. "
   ]
  },
  {
   "cell_type": "code",
   "execution_count": null,
   "metadata": {},
   "outputs": [],
   "source": [
    "prob.status"
   ]
  },
  {
   "cell_type": "markdown",
   "metadata": {},
   "source": [
    "You can retrieve the values of the passenger flow. However it is difficult to understand those larger dimensional vectors."
   ]
  },
  {
   "cell_type": "code",
   "execution_count": null,
   "metadata": {},
   "outputs": [],
   "source": [
    "f_p.value"
   ]
  },
  {
   "cell_type": "markdown",
   "metadata": {},
   "source": [
    "Therefore, the below function helps in analyzing and decomposing edge by edge for the passenger flow. "
   ]
  },
  {
   "cell_type": "code",
   "execution_count": null,
   "metadata": {},
   "outputs": [],
   "source": [
    "get_edge_flow(f_p, map_edges)"
   ]
  },
  {
   "cell_type": "markdown",
   "metadata": {},
   "source": [
    "Those dictionnaries enable to check the cost of each edge. \n",
    "\n",
    "We can therefore compare the cost of paths to the cost of the inverse demand. "
   ]
  },
  {
   "cell_type": "code",
   "execution_count": null,
   "metadata": {},
   "outputs": [],
   "source": [
    "costs_dict[(1,2)].value"
   ]
  },
  {
   "cell_type": "code",
   "execution_count": null,
   "metadata": {},
   "outputs": [],
   "source": [
    "costs_dict[(1,3)].value + costs_dict[(3, 2)].value"
   ]
  },
  {
   "cell_type": "code",
   "execution_count": null,
   "metadata": {},
   "outputs": [],
   "source": [
    "inv_d_dict[(1,2)].value"
   ]
  },
  {
   "cell_type": "markdown",
   "metadata": {},
   "source": [
    "We can also compute directly the new rebalancing guess. "
   ]
  },
  {
   "cell_type": "code",
   "execution_count": null,
   "metadata": {},
   "outputs": [],
   "source": [
    "get_new_r(f_p, map_edges, nodes)"
   ]
  },
  {
   "cell_type": "markdown",
   "metadata": {},
   "source": [
    "## Sampling solutions"
   ]
  },
  {
   "cell_type": "markdown",
   "metadata": {},
   "source": [
    "We run a given number of times and check the ratio to probe contractivity. \n",
    "You can play with \n",
    "- seed\n",
    "- nsamples"
   ]
  },
  {
   "cell_type": "code",
   "execution_count": null,
   "metadata": {},
   "outputs": [],
   "source": [
    "Tr, r_, dT, dr = sample_solutions(edges, inv_edges, nsamples = 1000, seed=0)"
   ]
  },
  {
   "cell_type": "markdown",
   "metadata": {},
   "source": [
    "## Run complete algorithm"
   ]
  },
  {
   "cell_type": "markdown",
   "metadata": {},
   "source": [
    "You can also run the complete algorithm for a given number of iterations. "
   ]
  },
  {
   "cell_type": "code",
   "execution_count": null,
   "metadata": {},
   "outputs": [],
   "source": [
    "r_tot = run_algorithm(edges, inv_edges, nsolutions = 5, seed =0, max_iter = 15)"
   ]
  },
  {
   "cell_type": "markdown",
   "metadata": {},
   "source": [
    "The below functions plots the following:\n",
    "- One graph for the evolution of each component of r (3 graphs)\n",
    "- One graph for the evolution of each component in the last 5 iterations (3 graphs)\n",
    "- One graph for the evolution of the difference of the norm between two iterations (1 graph)"
   ]
  },
  {
   "cell_type": "code",
   "execution_count": null,
   "metadata": {},
   "outputs": [],
   "source": [
    "plot_results_run(r_tot)"
   ]
  }
 ],
 "metadata": {
  "kernelspec": {
   "display_name": "Python 3.6.8 64-bit ('base': conda)",
   "language": "python",
   "name": "python36864bitbaseconda750b8e9e7bda4c4c8e0af5d270c01c3d"
  },
  "language_info": {
   "codemirror_mode": {
    "name": "ipython",
    "version": 3
   },
   "file_extension": ".py",
   "mimetype": "text/x-python",
   "name": "python",
   "nbconvert_exporter": "python",
   "pygments_lexer": "ipython3",
   "version": "3.6.8"
  },
  "toc": {
   "base_numbering": 1,
   "nav_menu": {},
   "number_sections": true,
   "sideBar": true,
   "skip_h1_title": false,
   "title_cell": "Table of Contents",
   "title_sidebar": "Contents",
   "toc_cell": true,
   "toc_position": {
    "height": "calc(100% - 180px)",
    "left": "10px",
    "top": "150px",
    "width": "198px"
   },
   "toc_section_display": true,
   "toc_window_display": true
  },
  "varInspector": {
   "cols": {
    "lenName": 16,
    "lenType": 16,
    "lenVar": 40
   },
   "kernels_config": {
    "python": {
     "delete_cmd_postfix": "",
     "delete_cmd_prefix": "del ",
     "library": "var_list.py",
     "varRefreshCmd": "print(var_dic_list())"
    },
    "r": {
     "delete_cmd_postfix": ") ",
     "delete_cmd_prefix": "rm(",
     "library": "var_list.r",
     "varRefreshCmd": "cat(var_dic_list()) "
    }
   },
   "types_to_exclude": [
    "module",
    "function",
    "builtin_function_or_method",
    "instance",
    "_Feature"
   ],
   "window_display": false
  }
 },
 "nbformat": 4,
 "nbformat_minor": 2
}
